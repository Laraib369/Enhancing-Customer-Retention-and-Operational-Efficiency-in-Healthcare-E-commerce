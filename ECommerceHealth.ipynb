{
  "nbformat": 4,
  "nbformat_minor": 0,
  "metadata": {
    "colab": {
      "provenance": [],
      "authorship_tag": "ABX9TyOpQIWWShUVE8N4H8kcEbGt",
      "include_colab_link": true
    },
    "kernelspec": {
      "name": "python3",
      "display_name": "Python 3"
    },
    "language_info": {
      "name": "python"
    }
  },
  "cells": [
    {
      "cell_type": "markdown",
      "metadata": {
        "id": "view-in-github",
        "colab_type": "text"
      },
      "source": [
        "<a href=\"https://colab.research.google.com/github/Laraib369/Enhancing-Customer-Retention-and-Operational-Efficiency-in-Healthcare-E-commerce/blob/main/ECommerceHealth.ipynb\" target=\"_parent\"><img src=\"https://colab.research.google.com/assets/colab-badge.svg\" alt=\"Open In Colab\"/></a>"
      ]
    },
    {
      "cell_type": "code",
      "source": [
        "from google.colab import drive\n",
        "drive.mount('/content/drive')"
      ],
      "metadata": {
        "colab": {
          "base_uri": "https://localhost:8080/"
        },
        "id": "rhJ18IeSgNXY",
        "outputId": "03b0300a-2b9d-4b7f-c531-e4afdb6998c8"
      },
      "execution_count": null,
      "outputs": [
        {
          "output_type": "stream",
          "name": "stdout",
          "text": [
            "Mounted at /content/drive\n"
          ]
        }
      ]
    },
    {
      "cell_type": "code",
      "source": [
        "import pandas as pd\n",
        "\n",
        "# Load the dataset\n",
        "data = pd.read_csv('/content/drive/MyDrive/E commerce/OrdersCleaned.csv')\n",
        "\n",
        "# Display the first few rows\n",
        "print(data.head())\n"
      ],
      "metadata": {
        "colab": {
          "base_uri": "https://localhost:8080/"
        },
        "id": "VRruWfNejGTm",
        "outputId": "676ac698-6d50-48c2-fee5-fad1df72e53a"
      },
      "execution_count": null,
      "outputs": [
        {
          "output_type": "stream",
          "name": "stdout",
          "text": [
            "   Unnamed: 0     ID Name           City        State  \\\n",
            "0           0  30145  Man       Nayagarh       Odisha   \n",
            "1           1  30144  Dik          Thane  Maharashtra   \n",
            "2           2  30143  Shi      Bangalore    Karnataka   \n",
            "3           3  30142  Pre         Mumbai  Maharashtra   \n",
            "4           4  30138  Dr.  Pauri Garhwal  Uttarakhand   \n",
            "\n",
            "                                             Address  isCOD  \\\n",
            "0  Jagadish Prasad, Golapokhari-Bhapur Road, Fate...   True   \n",
            "1  Shanti Garden Sector 4 , flat 401, building 2,...   True   \n",
            "2    #280 2nd main 2nd cross, vinobha nagar kg halli   True   \n",
            "3  1404/ Accord Nidhi, above Bikaji, Link Road, M...   True   \n",
            "4  10 am to 3 pm, Please call Before Coming, Room...   True   \n",
            "\n",
            "           Date Placed     Status        IVR  Remarks  Total  \\\n",
            "0  2021-01-31 17:45:59  Delivered  Confirmed   pickrr    999   \n",
            "1  2021-01-31 17:33:57  Delivered  Confirmed      NaN    599   \n",
            "2  2021-01-31 17:33:02  Delivered  Confirmed  On call    599   \n",
            "3  2021-01-31 17:31:57  Delivered  Confirmed   Script   3596   \n",
            "4  2021-01-31 17:06:55  Delivered  Confirmed   Script    999   \n",
            "\n",
            "        Date Delivered Date Returned PID Category  Quantity  \\\n",
            "0  2021-02-14 04:37:00           NaN  32       WL         2   \n",
            "1  2021-02-02 23:19:18           NaN  23        D         2   \n",
            "2  2021-02-08 00:08:25           NaN  23        D         2   \n",
            "3  2021-02-09 03:17:08           NaN  34       WL         2   \n",
            "4  2021-02-04 01:59:40           NaN  31       WL         2   \n",
            "\n",
            "                    Product Name  \n",
            "0   One Week Weight-Loss (Peach)  \n",
            "1           One Week Detox Trial  \n",
            "2           One Week Detox Trial  \n",
            "3  One Month Weight-Loss (Peach)  \n",
            "4    One Week Weight-Loss (Mint)  \n"
          ]
        }
      ]
    },
    {
      "cell_type": "code",
      "source": [
        "# Check for missing values\n",
        "print(data.isnull().sum())\n",
        "\n",
        "# Drop rows with missing values or fill them based on context\n",
        "data = data.dropna(subset=['Total', 'Date Delivered'])\n"
      ],
      "metadata": {
        "colab": {
          "base_uri": "https://localhost:8080/"
        },
        "id": "3um5X2DRjPEy",
        "outputId": "41e803a8-8afe-43c8-e060-495956fe097e"
      },
      "execution_count": null,
      "outputs": [
        {
          "output_type": "stream",
          "name": "stdout",
          "text": [
            "Unnamed: 0           0\n",
            "ID                   0\n",
            "Name                 0\n",
            "City                 4\n",
            "State                4\n",
            "Address              0\n",
            "isCOD                0\n",
            "Date Placed          0\n",
            "Status               0\n",
            "IVR                  0\n",
            "Remarks            671\n",
            "Total                0\n",
            "Date Delivered     189\n",
            "Date Returned     1403\n",
            "PID                 35\n",
            "Category             3\n",
            "Quantity             0\n",
            "Product Name         0\n",
            "dtype: int64\n"
          ]
        }
      ]
    },
    {
      "cell_type": "code",
      "source": [
        "# Convert date columns to datetime\n",
        "data['Date Placed'] = pd.to_datetime(data['Date Placed'])\n",
        "data['Date Delivered'] = pd.to_datetime(data['Date Delivered'])\n",
        "data['Date Returned'] = pd.to_datetime(data['Date Returned'], errors='coerce')  # Handle missing return dates\n"
      ],
      "metadata": {
        "id": "6GB5vvnbjUGb"
      },
      "execution_count": null,
      "outputs": []
    },
    {
      "cell_type": "code",
      "source": [
        "# Clean address data if necessary\n",
        "data['Address'] = data['Address'].str.strip()\n"
      ],
      "metadata": {
        "id": "JkGdPNjzjWq3"
      },
      "execution_count": null,
      "outputs": []
    },
    {
      "cell_type": "code",
      "source": [
        "import numpy as np\n",
        "\n",
        "# Define a cutoff date for retention\n",
        "cutoff_date = pd.to_datetime('2022-01-31')  # Adjust according to your data\n",
        "\n",
        "# Create a retention label\n",
        "data['Retention'] = np.where(data['Date Delivered'] >= cutoff_date, 'Retained', 'Churned')\n"
      ],
      "metadata": {
        "id": "LroihF4cjYvD"
      },
      "execution_count": null,
      "outputs": []
    },
    {
      "cell_type": "code",
      "source": [
        "# Aggregating order data by customer\n",
        "customer_summary = data.groupby('Name').agg({\n",
        "    'ID': 'count',\n",
        "    'Date Placed': ['min', 'max'],\n",
        "    'Total': 'sum',\n",
        "    'isCOD': 'first',\n",
        "    'Category': 'first',\n",
        "    'Quantity': 'sum'\n",
        "}).reset_index()\n",
        "\n",
        "customer_summary.columns = ['Name', 'Total Orders', 'First Order Date', 'Last Order Date', 'Total Spent', 'isCOD', 'Category', 'Total Quantity']\n"
      ],
      "metadata": {
        "id": "vtJ4KjD9jZ76"
      },
      "execution_count": null,
      "outputs": []
    },
    {
      "cell_type": "code",
      "source": [
        "customer_summary['Days Since Last Order'] = (pd.to_datetime('today') - customer_summary['Last Order Date']).dt.days\n"
      ],
      "metadata": {
        "id": "UdGTeswljcL5"
      },
      "execution_count": null,
      "outputs": []
    },
    {
      "cell_type": "code",
      "source": [
        "from sklearn.preprocessing import StandardScaler\n",
        "\n",
        "# Select features for clustering\n",
        "features = customer_summary[['Total Orders', 'Days Since Last Order', 'Total Spent', 'Total Quantity']]\n",
        "\n",
        "# Standardize the features\n",
        "scaler = StandardScaler()\n",
        "features_scaled = scaler.fit_transform(features)\n"
      ],
      "metadata": {
        "id": "V5fGMIR5jelz"
      },
      "execution_count": null,
      "outputs": []
    },
    {
      "cell_type": "code",
      "source": [
        "from sklearn.cluster import KMeans\n",
        "\n",
        "# Apply K-Means clustering\n",
        "kmeans = KMeans(n_clusters=4, random_state=42)\n",
        "customer_summary['Cluster'] = kmeans.fit_predict(features_scaled)\n",
        "\n",
        "# Display the cluster assignments\n",
        "print(customer_summary[['Name', 'Cluster']].head())\n"
      ],
      "metadata": {
        "colab": {
          "base_uri": "https://localhost:8080/"
        },
        "id": "zbkIo2jJjhHA",
        "outputId": "de183631-7f49-4173-c673-8c5e45c64bab"
      },
      "execution_count": null,
      "outputs": [
        {
          "output_type": "stream",
          "name": "stdout",
          "text": [
            "  Name  Cluster\n",
            "0  A N        3\n",
            "1  A S        3\n",
            "2  A.N        2\n",
            "3  Aaf        3\n",
            "4  Aak        0\n"
          ]
        },
        {
          "output_type": "stream",
          "name": "stderr",
          "text": [
            "/usr/local/lib/python3.10/dist-packages/sklearn/cluster/_kmeans.py:1416: FutureWarning: The default value of `n_init` will change from 10 to 'auto' in 1.4. Set the value of `n_init` explicitly to suppress the warning\n",
            "  super()._check_params_vs_input(X, default_n_init=10)\n"
          ]
        }
      ]
    },
    {
      "cell_type": "code",
      "source": [
        "# Analyze the characteristics of each cluster\n",
        "cluster_analysis = customer_summary.groupby('Cluster').agg({\n",
        "    'Total Orders': 'mean',\n",
        "    'Days Since Last Order': 'mean',\n",
        "    'Total Spent': 'mean',\n",
        "    'Total Quantity': 'mean'\n",
        "})\n",
        "\n",
        "print(cluster_analysis)\n"
      ],
      "metadata": {
        "colab": {
          "base_uri": "https://localhost:8080/"
        },
        "id": "HmUayCbnjmPa",
        "outputId": "c49cf7e7-134f-452b-c1c3-9961fcd95b18"
      },
      "execution_count": null,
      "outputs": [
        {
          "output_type": "stream",
          "name": "stdout",
          "text": [
            "         Total Orders  Days Since Last Order   Total Spent  Total Quantity\n",
            "Cluster                                                                   \n",
            "0            7.476923            1307.661538  13686.015385       13.307692\n",
            "1           24.555556            1305.444444  46982.111111       44.888889\n",
            "2            1.200000            1326.521739   1999.686957        1.765217\n",
            "3            1.891156            1310.986395   3237.853741        3.513605\n"
          ]
        }
      ]
    },
    {
      "cell_type": "code",
      "source": [
        "#Trouble shooting"
      ],
      "metadata": {
        "id": "NmWzOtJ3j961"
      },
      "execution_count": null,
      "outputs": []
    },
    {
      "cell_type": "code",
      "source": [
        "import pandas as pd\n",
        "import numpy as np\n",
        "\n",
        "# Load the dataset\n",
        "data = pd.read_csv('/content/drive/MyDrive/E commerce/OrdersCleaned.csv')\n",
        "\n",
        "# Convert date columns to datetime\n",
        "data['Date Placed'] = pd.to_datetime(data['Date Placed'])\n",
        "data['Date Delivered'] = pd.to_datetime(data['Date Delivered'])\n",
        "data['Date Returned'] = pd.to_datetime(data['Date Returned'], errors='coerce')\n",
        "\n",
        "# Define a cutoff date for retention\n",
        "cutoff_date = pd.to_datetime('2022-01-31')\n",
        "\n",
        "# Create a retention label\n",
        "data['Retention'] = np.where(data['Date Delivered'] >= cutoff_date, 'Retained', 'Churned')\n",
        "\n",
        "# Check if 'Retention' column is added\n",
        "print(data.head())\n",
        "\n",
        "# Aggregating order data by customer\n",
        "customer_summary = data.groupby('Name').agg({\n",
        "    'ID': 'count',\n",
        "    'Date Placed': ['min', 'max'],\n",
        "    'Total': 'sum',\n",
        "    'isCOD': 'first',\n",
        "    'Category': 'first',\n",
        "    'Quantity': 'sum',\n",
        "    'Retention': 'first'  # Ensure 'Retention' is included\n",
        "}).reset_index()\n",
        "\n",
        "customer_summary.columns = ['Name', 'Total Orders', 'First Order Date', 'Last Order Date', 'Total Spent', 'isCOD', 'Category', 'Total Quantity', 'Retention']\n",
        "print(customer_summary.head())\n"
      ],
      "metadata": {
        "colab": {
          "base_uri": "https://localhost:8080/"
        },
        "id": "gTRNjuglj_ih",
        "outputId": "3df78035-d8e4-4084-8b9d-37f023ed1c7b"
      },
      "execution_count": null,
      "outputs": [
        {
          "output_type": "stream",
          "name": "stdout",
          "text": [
            "   Unnamed: 0     ID Name           City        State  \\\n",
            "0           0  30145  Man       Nayagarh       Odisha   \n",
            "1           1  30144  Dik          Thane  Maharashtra   \n",
            "2           2  30143  Shi      Bangalore    Karnataka   \n",
            "3           3  30142  Pre         Mumbai  Maharashtra   \n",
            "4           4  30138  Dr.  Pauri Garhwal  Uttarakhand   \n",
            "\n",
            "                                             Address  isCOD  \\\n",
            "0  Jagadish Prasad, Golapokhari-Bhapur Road, Fate...   True   \n",
            "1  Shanti Garden Sector 4 , flat 401, building 2,...   True   \n",
            "2    #280 2nd main 2nd cross, vinobha nagar kg halli   True   \n",
            "3  1404/ Accord Nidhi, above Bikaji, Link Road, M...   True   \n",
            "4  10 am to 3 pm, Please call Before Coming, Room...   True   \n",
            "\n",
            "          Date Placed     Status        IVR  Remarks  Total  \\\n",
            "0 2021-01-31 17:45:59  Delivered  Confirmed   pickrr    999   \n",
            "1 2021-01-31 17:33:57  Delivered  Confirmed      NaN    599   \n",
            "2 2021-01-31 17:33:02  Delivered  Confirmed  On call    599   \n",
            "3 2021-01-31 17:31:57  Delivered  Confirmed   Script   3596   \n",
            "4 2021-01-31 17:06:55  Delivered  Confirmed   Script    999   \n",
            "\n",
            "       Date Delivered Date Returned PID Category  Quantity  \\\n",
            "0 2021-02-14 04:37:00           NaT  32       WL         2   \n",
            "1 2021-02-02 23:19:18           NaT  23        D         2   \n",
            "2 2021-02-08 00:08:25           NaT  23        D         2   \n",
            "3 2021-02-09 03:17:08           NaT  34       WL         2   \n",
            "4 2021-02-04 01:59:40           NaT  31       WL         2   \n",
            "\n",
            "                    Product Name Retention  \n",
            "0   One Week Weight-Loss (Peach)   Churned  \n",
            "1           One Week Detox Trial   Churned  \n",
            "2           One Week Detox Trial   Churned  \n",
            "3  One Month Weight-Loss (Peach)   Churned  \n",
            "4    One Week Weight-Loss (Mint)   Churned  \n",
            "  Name  Total Orders    First Order Date     Last Order Date  Total Spent  \\\n",
            "0  A N             1 2021-01-22 07:28:02 2021-01-22 07:28:02         3417   \n",
            "1  A S             1 2021-01-21 07:35:26 2021-01-21 07:35:26          599   \n",
            "2  A.N             1 2021-01-17 14:34:21 2021-01-17 14:34:21         3596   \n",
            "3  Aaf             3 2021-01-06 12:41:39 2021-01-23 07:46:02         4673   \n",
            "4  Aak             6 2021-01-02 13:58:40 2021-01-23 16:47:48        12224   \n",
            "\n",
            "   isCOD Category  Total Quantity Retention  \n",
            "0  False       WL               2   Churned  \n",
            "1   True        D               2   Churned  \n",
            "2   True       WL               2   Churned  \n",
            "3   True        K               7   Churned  \n",
            "4   True       WL              11   Churned  \n"
          ]
        }
      ]
    },
    {
      "cell_type": "code",
      "source": [
        "print(data.columns)\n"
      ],
      "metadata": {
        "colab": {
          "base_uri": "https://localhost:8080/"
        },
        "id": "i_WgrQXskFOB",
        "outputId": "98916c57-a70b-4150-afae-7d07f85860ef"
      },
      "execution_count": null,
      "outputs": [
        {
          "output_type": "stream",
          "name": "stdout",
          "text": [
            "Index(['Unnamed: 0', 'ID', 'Name', 'City', 'State', 'Address', 'isCOD',\n",
            "       'Date Placed', 'Status', 'IVR', 'Remarks', 'Total', 'Date Delivered',\n",
            "       'Date Returned', 'PID', 'Category', 'Quantity', 'Product Name',\n",
            "       'Retention'],\n",
            "      dtype='object')\n"
          ]
        }
      ]
    },
    {
      "cell_type": "code",
      "source": [
        "import numpy as np\n",
        "import pandas as pd\n",
        "\n",
        "# Load the dataset\n",
        "data = pd.read_csv('/content/drive/MyDrive/E commerce/OrdersCleaned.csv')\n",
        "\n",
        "# Convert date columns to datetime\n",
        "data['Date Placed'] = pd.to_datetime(data['Date Placed'])\n",
        "data['Date Delivered'] = pd.to_datetime(data['Date Delivered'])\n",
        "data['Date Returned'] = pd.to_datetime(data['Date Returned'], errors='coerce')  # Handle missing return dates\n",
        "\n",
        "# Define a cutoff date for retention\n",
        "cutoff_date = pd.to_datetime('2022-01-31')  # Adjust according to your data\n",
        "\n",
        "# Create a retention label\n",
        "data['Retention'] = np.where(data['Date Delivered'] >= cutoff_date, 'Retained', 'Churned')\n",
        "\n",
        "# Check if 'Retention' column is added\n",
        "print(data.head())\n"
      ],
      "metadata": {
        "colab": {
          "base_uri": "https://localhost:8080/"
        },
        "id": "hDVOfb2hkQJA",
        "outputId": "8376dcf1-eb80-4087-b38c-f986972b0711"
      },
      "execution_count": null,
      "outputs": [
        {
          "output_type": "stream",
          "name": "stdout",
          "text": [
            "   Unnamed: 0     ID Name           City        State  \\\n",
            "0           0  30145  Man       Nayagarh       Odisha   \n",
            "1           1  30144  Dik          Thane  Maharashtra   \n",
            "2           2  30143  Shi      Bangalore    Karnataka   \n",
            "3           3  30142  Pre         Mumbai  Maharashtra   \n",
            "4           4  30138  Dr.  Pauri Garhwal  Uttarakhand   \n",
            "\n",
            "                                             Address  isCOD  \\\n",
            "0  Jagadish Prasad, Golapokhari-Bhapur Road, Fate...   True   \n",
            "1  Shanti Garden Sector 4 , flat 401, building 2,...   True   \n",
            "2    #280 2nd main 2nd cross, vinobha nagar kg halli   True   \n",
            "3  1404/ Accord Nidhi, above Bikaji, Link Road, M...   True   \n",
            "4  10 am to 3 pm, Please call Before Coming, Room...   True   \n",
            "\n",
            "          Date Placed     Status        IVR  Remarks  Total  \\\n",
            "0 2021-01-31 17:45:59  Delivered  Confirmed   pickrr    999   \n",
            "1 2021-01-31 17:33:57  Delivered  Confirmed      NaN    599   \n",
            "2 2021-01-31 17:33:02  Delivered  Confirmed  On call    599   \n",
            "3 2021-01-31 17:31:57  Delivered  Confirmed   Script   3596   \n",
            "4 2021-01-31 17:06:55  Delivered  Confirmed   Script    999   \n",
            "\n",
            "       Date Delivered Date Returned PID Category  Quantity  \\\n",
            "0 2021-02-14 04:37:00           NaT  32       WL         2   \n",
            "1 2021-02-02 23:19:18           NaT  23        D         2   \n",
            "2 2021-02-08 00:08:25           NaT  23        D         2   \n",
            "3 2021-02-09 03:17:08           NaT  34       WL         2   \n",
            "4 2021-02-04 01:59:40           NaT  31       WL         2   \n",
            "\n",
            "                    Product Name Retention  \n",
            "0   One Week Weight-Loss (Peach)   Churned  \n",
            "1           One Week Detox Trial   Churned  \n",
            "2           One Week Detox Trial   Churned  \n",
            "3  One Month Weight-Loss (Peach)   Churned  \n",
            "4    One Week Weight-Loss (Mint)   Churned  \n"
          ]
        }
      ]
    },
    {
      "cell_type": "code",
      "source": [
        "# Check the first few rows of the DataFrame\n",
        "print(data[['Retention']].head())\n"
      ],
      "metadata": {
        "colab": {
          "base_uri": "https://localhost:8080/"
        },
        "id": "E52pHwypkUNs",
        "outputId": "c83d5ffd-95fd-47da-c697-9b5840bc364b"
      },
      "execution_count": null,
      "outputs": [
        {
          "output_type": "stream",
          "name": "stdout",
          "text": [
            "  Retention\n",
            "0   Churned\n",
            "1   Churned\n",
            "2   Churned\n",
            "3   Churned\n",
            "4   Churned\n"
          ]
        }
      ]
    },
    {
      "cell_type": "code",
      "source": [
        "# Aggregating order data by customer\n",
        "customer_summary = data.groupby('Name').agg({\n",
        "    'ID': 'count',\n",
        "    'Date Placed': ['min', 'max'],\n",
        "    'Total': 'sum',\n",
        "    'isCOD': 'first',\n",
        "    'Category': 'first',\n",
        "    'Quantity': 'sum',\n",
        "    'Retention': 'first'  # Ensure 'Retention' is included\n",
        "}).reset_index()\n"
      ],
      "metadata": {
        "id": "BJddfV7ikWk_"
      },
      "execution_count": null,
      "outputs": []
    },
    {
      "cell_type": "code",
      "source": [
        "print(customer_summary.head())\n",
        "print(customer_summary.columns)\n"
      ],
      "metadata": {
        "colab": {
          "base_uri": "https://localhost:8080/"
        },
        "id": "xy-PV03NkrLh",
        "outputId": "c04361ca-f01d-4dc8-b174-3b6affefc170"
      },
      "execution_count": null,
      "outputs": [
        {
          "output_type": "stream",
          "name": "stdout",
          "text": [
            "      ID Date Delivered            Retention\n",
            "                    min        max     first\n",
            "0  30142     2021-02-09 2021-02-09  Retained\n",
            "1  30143     2021-02-08 2021-02-08  Retained\n",
            "2  30144     2021-02-02 2021-02-02  Retained\n",
            "3  30145     2021-02-14 2021-02-14  Retained\n",
            "MultiIndex([(            'ID',      ''),\n",
            "            ('Date Delivered',   'min'),\n",
            "            ('Date Delivered',   'max'),\n",
            "            (     'Retention', 'first')],\n",
            "           )\n"
          ]
        }
      ]
    },
    {
      "cell_type": "code",
      "source": [
        "import pandas as pd\n",
        "import numpy as np\n",
        "import matplotlib.pyplot as plt\n",
        "import seaborn as sns\n",
        "\n",
        "# Sample DataFrame creation for context\n",
        "data = pd.DataFrame({\n",
        "    'ID': [30145, 30144, 30143, 30142],\n",
        "    'Date Delivered': pd.to_datetime(['2021-02-14', '2021-02-02', '2021-02-08', '2021-02-09']),\n",
        "    'Retention': ['Retained', 'Retained', 'Retained', 'Retained']  # Example values\n",
        "})\n",
        "\n",
        "# Group by Retention for summary\n",
        "customer_summary = data.groupby('Retention').agg({\n",
        "    'ID': 'count'\n",
        "}).reset_index()\n",
        "\n",
        "print(customer_summary)\n"
      ],
      "metadata": {
        "colab": {
          "base_uri": "https://localhost:8080/"
        },
        "id": "Op963VQQk3OY",
        "outputId": "5ce853d0-fbe4-432b-e129-64a84b579479"
      },
      "execution_count": null,
      "outputs": [
        {
          "output_type": "stream",
          "name": "stdout",
          "text": [
            "  Retention  ID\n",
            "0  Retained   4\n"
          ]
        }
      ]
    },
    {
      "cell_type": "code",
      "source": [
        "# Retention Rate\n",
        "retention_rate = customer_summary.set_index('Retention')['ID'].loc['Retained'] / customer_summary['ID'].sum() * 100\n",
        "print(f'Retention Rate: {retention_rate:.2f}%')\n",
        "\n",
        "# Plot the retention rate\n",
        "plt.figure(figsize=(6, 6))\n",
        "sns.countplot(data=data, x='Retention')\n",
        "plt.title('Customer Retention Rate')\n",
        "plt.show()\n"
      ],
      "metadata": {
        "colab": {
          "base_uri": "https://localhost:8080/",
          "height": 582
        },
        "id": "wgDDvUhek3nk",
        "outputId": "45a3f360-5fc6-4dfa-a222-fd613dd6315b"
      },
      "execution_count": null,
      "outputs": [
        {
          "output_type": "stream",
          "name": "stdout",
          "text": [
            "Retention Rate: 100.00%\n"
          ]
        },
        {
          "output_type": "display_data",
          "data": {
            "text/plain": [
              "<Figure size 600x600 with 1 Axes>"
            ],
            "image/png": "[encoded data removed]"
          },
          "metadata": {}
        }
      ]
    },
    {
      "cell_type": "code",
      "source": [
        "# If 'Retention' is not in the original DataFrame used for plotting, check its existence\n",
        "if 'Retention' in data.columns:\n",
        "    plt.figure(figsize=(6, 6))\n",
        "    sns.countplot(data=data, x='Retention')\n",
        "    plt.title('Customer Retention Rate')\n",
        "    plt.show()\n",
        "else:\n",
        "    print(\"Column 'Retention' not found in the DataFrame.\")\n"
      ],
      "metadata": {
        "colab": {
          "base_uri": "https://localhost:8080/",
          "height": 564
        },
        "id": "uqWylikRk78W",
        "outputId": "c2d728fd-4698-4caa-ffe5-e1df09ccd660"
      },
      "execution_count": null,
      "outputs": [
        {
          "output_type": "display_data",
          "data": {
            "text/plain": [
              "<Figure size 600x600 with 1 Axes>"
            ],
            "image/png": "[encoded data removed]"
          },
          "metadata": {}
        }
      ]
    },
    {
      "cell_type": "code",
      "source": [
        "print(data.columns)  # Check if 'Retention' is listed\n",
        "print(customer_summary.columns)  # Check if 'Retention' is listed\n"
      ],
      "metadata": {
        "colab": {
          "base_uri": "https://localhost:8080/"
        },
        "id": "NdAyPjFGk_rj",
        "outputId": "1d8e0a78-ca93-444a-d90b-2ccfc30e6083"
      },
      "execution_count": null,
      "outputs": [
        {
          "output_type": "stream",
          "name": "stdout",
          "text": [
            "Index(['ID', 'Date Delivered', 'Retention'], dtype='object')\n",
            "Index(['Retention', 'ID'], dtype='object')\n"
          ]
        }
      ]
    },
    {
      "cell_type": "code",
      "source": [
        "import matplotlib.pyplot as plt\n",
        "import seaborn as sns\n",
        "\n",
        "# Retention Rate\n",
        "retention_rate = customer_summary['Retention'].value_counts(normalize=True).loc['Retained'] * 100\n",
        "print(f'Retention Rate: {retention_rate:.2f}%')\n",
        "\n",
        "# Plot the retention rate\n",
        "plt.figure(figsize=(6, 6))\n",
        "sns.countplot(data=customer_summary, x='Retention')\n",
        "plt.title('Customer Retention Rate')\n",
        "plt.show()\n"
      ],
      "metadata": {
        "colab": {
          "base_uri": "https://localhost:8080/",
          "height": 582
        },
        "id": "s7Wyq_cvlCWI",
        "outputId": "3885274f-6d83-40d3-dc5b-c487f8cb8231"
      },
      "execution_count": null,
      "outputs": [
        {
          "output_type": "stream",
          "name": "stdout",
          "text": [
            "Retention Rate: 100.00%\n"
          ]
        },
        {
          "output_type": "display_data",
          "data": {
            "text/plain": [
              "<Figure size 600x600 with 1 Axes>"
            ],
            "image/png": "[encoded data removed]"
          },
          "metadata": {}
        }
      ]
    },
    {
      "cell_type": "code",
      "source": [
        "# Plot customer segments by cluster\n",
        "plt.figure(figsize=(12, 6))\n",
        "sns.countplot(data=customer_summary, x='Cluster', order=customer_summary['Cluster'].value_counts().index)\n",
        "plt.title('Customer Segments by Cluster')\n",
        "plt.show()\n"
      ],
      "metadata": {
        "colab": {
          "base_uri": "https://localhost:8080/",
          "height": 579
        },
        "id": "6Iwx6w0OlGsQ",
        "outputId": "0230526e-9956-428a-f0da-a224364026d3"
      },
      "execution_count": null,
      "outputs": [
        {
          "output_type": "error",
          "ename": "KeyError",
          "evalue": "'Cluster'",
          "traceback": [
            "\u001b[0;31m---------------------------------------------------------------------------\u001b[0m",
            "\u001b[0;31mKeyError\u001b[0m                                  Traceback (most recent call last)",
            "\u001b[0;32m/usr/local/lib/python3.10/dist-packages/pandas/core/indexes/base.py\u001b[0m in \u001b[0;36mget_loc\u001b[0;34m(self, key)\u001b[0m\n\u001b[1;32m   3790\u001b[0m         \u001b[0;32mtry\u001b[0m\u001b[0;34m:\u001b[0m\u001b[0;34m\u001b[0m\u001b[0;34m\u001b[0m\u001b[0m\n\u001b[0;32m-> 3791\u001b[0;31m             \u001b[0;32mreturn\u001b[0m \u001b[0mself\u001b[0m\u001b[0;34m.\u001b[0m\u001b[0m_engine\u001b[0m\u001b[0;34m.\u001b[0m\u001b[0mget_loc\u001b[0m\u001b[0;34m(\u001b[0m\u001b[0mcasted_key\u001b[0m\u001b[0;34m)\u001b[0m\u001b[0;34m\u001b[0m\u001b[0;34m\u001b[0m\u001b[0m\n\u001b[0m\u001b[1;32m   3792\u001b[0m         \u001b[0;32mexcept\u001b[0m \u001b[0mKeyError\u001b[0m \u001b[0;32mas\u001b[0m \u001b[0merr\u001b[0m\u001b[0;34m:\u001b[0m\u001b[0;34m\u001b[0m\u001b[0;34m\u001b[0m\u001b[0m\n",
            "\u001b[0;32mindex.pyx\u001b[0m in \u001b[0;36mpandas._libs.index.IndexEngine.get_loc\u001b[0;34m()\u001b[0m\n",
            "\u001b[0;32mindex.pyx\u001b[0m in \u001b[0;36mpandas._libs.index.IndexEngine.get_loc\u001b[0;34m()\u001b[0m\n",
            "\u001b[0;32mpandas/_libs/hashtable_class_helper.pxi\u001b[0m in \u001b[0;36mpandas._libs.hashtable.PyObjectHashTable.get_item\u001b[0;34m()\u001b[0m\n",
            "\u001b[0;32mpandas/_libs/hashtable_class_helper.pxi\u001b[0m in \u001b[0;36mpandas._libs.hashtable.PyObjectHashTable.get_item\u001b[0;34m()\u001b[0m\n",
            "\u001b[0;31mKeyError\u001b[0m: 'Cluster'",
            "\nThe above exception was the direct cause of the following exception:\n",
            "\u001b[0;31mKeyError\u001b[0m                                  Traceback (most recent call last)",
            "\u001b[0;32m<ipython-input-46-6d29b8a2a370>\u001b[0m in \u001b[0;36m<cell line: 3>\u001b[0;34m()\u001b[0m\n\u001b[1;32m      1\u001b[0m \u001b[0;31m# Plot customer segments by cluster\u001b[0m\u001b[0;34m\u001b[0m\u001b[0;34m\u001b[0m\u001b[0m\n\u001b[1;32m      2\u001b[0m \u001b[0mplt\u001b[0m\u001b[0;34m.\u001b[0m\u001b[0mfigure\u001b[0m\u001b[0;34m(\u001b[0m\u001b[0mfigsize\u001b[0m\u001b[0;34m=\u001b[0m\u001b[0;34m(\u001b[0m\u001b[0;36m12\u001b[0m\u001b[0;34m,\u001b[0m \u001b[0;36m6\u001b[0m\u001b[0;34m)\u001b[0m\u001b[0;34m)\u001b[0m\u001b[0;34m\u001b[0m\u001b[0;34m\u001b[0m\u001b[0m\n\u001b[0;32m----> 3\u001b[0;31m \u001b[0msns\u001b[0m\u001b[0;34m.\u001b[0m\u001b[0mcountplot\u001b[0m\u001b[0;34m(\u001b[0m\u001b[0mdata\u001b[0m\u001b[0;34m=\u001b[0m\u001b[0mcustomer_summary\u001b[0m\u001b[0;34m,\u001b[0m \u001b[0mx\u001b[0m\u001b[0;34m=\u001b[0m\u001b[0;34m'Cluster'\u001b[0m\u001b[0;34m,\u001b[0m \u001b[0morder\u001b[0m\u001b[0;34m=\u001b[0m\u001b[0mcustomer_summary\u001b[0m\u001b[0;34m[\u001b[0m\u001b[0;34m'Cluster'\u001b[0m\u001b[0;34m]\u001b[0m\u001b[0;34m.\u001b[0m\u001b[0mvalue_counts\u001b[0m\u001b[0;34m(\u001b[0m\u001b[0;34m)\u001b[0m\u001b[0;34m.\u001b[0m\u001b[0mindex\u001b[0m\u001b[0;34m)\u001b[0m\u001b[0;34m\u001b[0m\u001b[0;34m\u001b[0m\u001b[0m\n\u001b[0m\u001b[1;32m      4\u001b[0m \u001b[0mplt\u001b[0m\u001b[0;34m.\u001b[0m\u001b[0mtitle\u001b[0m\u001b[0;34m(\u001b[0m\u001b[0;34m'Customer Segments by Cluster'\u001b[0m\u001b[0;34m)\u001b[0m\u001b[0;34m\u001b[0m\u001b[0;34m\u001b[0m\u001b[0m\n\u001b[1;32m      5\u001b[0m \u001b[0mplt\u001b[0m\u001b[0;34m.\u001b[0m\u001b[0mshow\u001b[0m\u001b[0;34m(\u001b[0m\u001b[0;34m)\u001b[0m\u001b[0;34m\u001b[0m\u001b[0;34m\u001b[0m\u001b[0m\n",
            "\u001b[0;32m/usr/local/lib/python3.10/dist-packages/pandas/core/frame.py\u001b[0m in \u001b[0;36m__getitem__\u001b[0;34m(self, key)\u001b[0m\n\u001b[1;32m   3891\u001b[0m             \u001b[0;32mif\u001b[0m \u001b[0mself\u001b[0m\u001b[0;34m.\u001b[0m\u001b[0mcolumns\u001b[0m\u001b[0;34m.\u001b[0m\u001b[0mnlevels\u001b[0m \u001b[0;34m>\u001b[0m \u001b[0;36m1\u001b[0m\u001b[0;34m:\u001b[0m\u001b[0;34m\u001b[0m\u001b[0;34m\u001b[0m\u001b[0m\n\u001b[1;32m   3892\u001b[0m                 \u001b[0;32mreturn\u001b[0m \u001b[0mself\u001b[0m\u001b[0;34m.\u001b[0m\u001b[0m_getitem_multilevel\u001b[0m\u001b[0;34m(\u001b[0m\u001b[0mkey\u001b[0m\u001b[0;34m)\u001b[0m\u001b[0;34m\u001b[0m\u001b[0;34m\u001b[0m\u001b[0m\n\u001b[0;32m-> 3893\u001b[0;31m             \u001b[0mindexer\u001b[0m \u001b[0;34m=\u001b[0m \u001b[0mself\u001b[0m\u001b[0;34m.\u001b[0m\u001b[0mcolumns\u001b[0m\u001b[0;34m.\u001b[0m\u001b[0mget_loc\u001b[0m\u001b[0;34m(\u001b[0m\u001b[0mkey\u001b[0m\u001b[0;34m)\u001b[0m\u001b[0;34m\u001b[0m\u001b[0;34m\u001b[0m\u001b[0m\n\u001b[0m\u001b[1;32m   3894\u001b[0m             \u001b[0;32mif\u001b[0m \u001b[0mis_integer\u001b[0m\u001b[0;34m(\u001b[0m\u001b[0mindexer\u001b[0m\u001b[0;34m)\u001b[0m\u001b[0;34m:\u001b[0m\u001b[0;34m\u001b[0m\u001b[0;34m\u001b[0m\u001b[0m\n\u001b[1;32m   3895\u001b[0m                 \u001b[0mindexer\u001b[0m \u001b[0;34m=\u001b[0m \u001b[0;34m[\u001b[0m\u001b[0mindexer\u001b[0m\u001b[0;34m]\u001b[0m\u001b[0;34m\u001b[0m\u001b[0;34m\u001b[0m\u001b[0m\n",
            "\u001b[0;32m/usr/local/lib/python3.10/dist-packages/pandas/core/indexes/base.py\u001b[0m in \u001b[0;36mget_loc\u001b[0;34m(self, key)\u001b[0m\n\u001b[1;32m   3796\u001b[0m             ):\n\u001b[1;32m   3797\u001b[0m                 \u001b[0;32mraise\u001b[0m \u001b[0mInvalidIndexError\u001b[0m\u001b[0;34m(\u001b[0m\u001b[0mkey\u001b[0m\u001b[0;34m)\u001b[0m\u001b[0;34m\u001b[0m\u001b[0;34m\u001b[0m\u001b[0m\n\u001b[0;32m-> 3798\u001b[0;31m             \u001b[0;32mraise\u001b[0m \u001b[0mKeyError\u001b[0m\u001b[0;34m(\u001b[0m\u001b[0mkey\u001b[0m\u001b[0;34m)\u001b[0m \u001b[0;32mfrom\u001b[0m \u001b[0merr\u001b[0m\u001b[0;34m\u001b[0m\u001b[0;34m\u001b[0m\u001b[0m\n\u001b[0m\u001b[1;32m   3799\u001b[0m         \u001b[0;32mexcept\u001b[0m \u001b[0mTypeError\u001b[0m\u001b[0;34m:\u001b[0m\u001b[0;34m\u001b[0m\u001b[0;34m\u001b[0m\u001b[0m\n\u001b[1;32m   3800\u001b[0m             \u001b[0;31m# If we have a listlike key, _check_indexing_error will raise\u001b[0m\u001b[0;34m\u001b[0m\u001b[0;34m\u001b[0m\u001b[0m\n",
            "\u001b[0;31mKeyError\u001b[0m: 'Cluster'"
          ]
        },
        {
          "output_type": "display_data",
          "data": {
            "text/plain": [
              "<Figure size 1200x600 with 0 Axes>"
            ]
          },
          "metadata": {}
        }
      ]
    },
    {
      "cell_type": "code",
      "source": [
        "# Check the column names\n",
        "print(customer_summary.columns)\n"
      ],
      "metadata": {
        "colab": {
          "base_uri": "https://localhost:8080/"
        },
        "id": "D4YFMetmlZ83",
        "outputId": "4ef24da1-98cc-4d9c-d748-187b826e5515"
      },
      "execution_count": null,
      "outputs": [
        {
          "output_type": "stream",
          "name": "stdout",
          "text": [
            "Index(['Retention', 'ID'], dtype='object')\n"
          ]
        }
      ]
    },
    {
      "cell_type": "code",
      "source": [
        "# Display the first few rows to verify the column\n",
        "print(customer_summary.head())\n"
      ],
      "metadata": {
        "colab": {
          "base_uri": "https://localhost:8080/"
        },
        "id": "Sur-5kpMlccg",
        "outputId": "79e455ad-0c9c-4920-b35e-18e3f07797be"
      },
      "execution_count": null,
      "outputs": [
        {
          "output_type": "stream",
          "name": "stdout",
          "text": [
            "  Retention  ID\n",
            "0  Retained   4\n"
          ]
        }
      ]
    },
    {
      "cell_type": "code",
      "source": [
        "import pandas as pd\n",
        "import numpy as np\n",
        "\n",
        "# Load the dataset\n",
        "data = pd.read_csv('/content/drive/MyDrive/E commerce/OrdersCleaned.csv')\n",
        "\n",
        "# Convert date columns to datetime\n",
        "data['Date Placed'] = pd.to_datetime(data['Date Placed'])\n",
        "data['Date Delivered'] = pd.to_datetime(data['Date Delivered'])\n",
        "data['Date Returned'] = pd.to_datetime(data['Date Returned'], errors='coerce')\n",
        "\n",
        "# Check the data types\n",
        "print(data.dtypes)\n"
      ],
      "metadata": {
        "colab": {
          "base_uri": "https://localhost:8080/"
        },
        "id": "MiO2i9igleWp",
        "outputId": "59c6014f-300b-4e30-c5f7-acff6ec75053"
      },
      "execution_count": null,
      "outputs": [
        {
          "output_type": "stream",
          "name": "stdout",
          "text": [
            "Unnamed: 0                 int64\n",
            "ID                         int64\n",
            "Name                      object\n",
            "City                      object\n",
            "State                     object\n",
            "Address                   object\n",
            "isCOD                       bool\n",
            "Date Placed       datetime64[ns]\n",
            "Status                    object\n",
            "IVR                       object\n",
            "Remarks                   object\n",
            "Total                      int64\n",
            "Date Delivered    datetime64[ns]\n",
            "Date Returned     datetime64[ns]\n",
            "PID                       object\n",
            "Category                  object\n",
            "Quantity                   int64\n",
            "Product Name              object\n",
            "dtype: object\n"
          ]
        }
      ]
    },
    {
      "cell_type": "code",
      "source": [
        "# Define the cutoff date\n",
        "cutoff_date = pd.to_datetime('2022-01-31')\n",
        "\n",
        "# Create Retention Label\n",
        "data['Retention'] = np.where(data['Date Delivered'] >= cutoff_date, 'Retained', 'Churned')\n",
        "\n",
        "# Check the distribution of retention labels\n",
        "print(data['Retention'].value_counts())\n"
      ],
      "metadata": {
        "colab": {
          "base_uri": "https://localhost:8080/"
        },
        "id": "nhBWSklOly0a",
        "outputId": "590b62a7-31a9-4892-8c62-efc9469fa142"
      },
      "execution_count": null,
      "outputs": [
        {
          "output_type": "stream",
          "name": "stdout",
          "text": [
            "Retention\n",
            "Churned    1590\n",
            "Name: count, dtype: int64\n"
          ]
        }
      ]
    },
    {
      "cell_type": "code",
      "source": [
        "# Aggregate Customer Data\n",
        "customer_summary = data.groupby('Name').agg({\n",
        "    'ID': 'count',\n",
        "    'Date Placed': ['min', 'max'],\n",
        "    'Total': 'sum',\n",
        "    'isCOD': 'first',\n",
        "    'Category': 'first',\n",
        "    'Quantity': 'sum',\n",
        "    'Retention': 'first'\n",
        "}).reset_index()\n",
        "\n",
        "customer_summary.columns = ['Name', 'Total Orders', 'First Order Date', 'Last Order Date', 'Total Spent', 'isCOD', 'Category', 'Total Quantity', 'Retention']\n",
        "\n",
        "# Calculate Days Since Last Order\n",
        "customer_summary['Days Since Last Order'] = (pd.to_datetime('today') - customer_summary['Last Order Date']).dt.days\n",
        "\n",
        "# Check the first few rows\n",
        "print(customer_summary.head())\n"
      ],
      "metadata": {
        "colab": {
          "base_uri": "https://localhost:8080/"
        },
        "id": "R78bJwHxl1kt",
        "outputId": "e133b473-da34-4d20-eed7-941349206402"
      },
      "execution_count": null,
      "outputs": [
        {
          "output_type": "stream",
          "name": "stdout",
          "text": [
            "  Name  Total Orders    First Order Date     Last Order Date  Total Spent  \\\n",
            "0  A N             1 2021-01-22 07:28:02 2021-01-22 07:28:02         3417   \n",
            "1  A S             1 2021-01-21 07:35:26 2021-01-21 07:35:26          599   \n",
            "2  A.N             1 2021-01-17 14:34:21 2021-01-17 14:34:21         3596   \n",
            "3  Aaf             3 2021-01-06 12:41:39 2021-01-23 07:46:02         4673   \n",
            "4  Aak             6 2021-01-02 13:58:40 2021-01-23 16:47:48        12224   \n",
            "\n",
            "   isCOD Category  Total Quantity Retention  Days Since Last Order  \n",
            "0  False       WL               2   Churned                   1314  \n",
            "1   True        D               2   Churned                   1315  \n",
            "2   True       WL               2   Churned                   1319  \n",
            "3   True        K               7   Churned                   1313  \n",
            "4   True       WL              11   Churned                   1312  \n"
          ]
        }
      ]
    },
    {
      "cell_type": "code",
      "source": [
        "from sklearn.preprocessing import StandardScaler\n",
        "from sklearn.cluster import KMeans\n",
        "\n",
        "# Prepare Data for Clustering\n",
        "features = customer_summary[['Total Orders', 'Days Since Last Order', 'Total Spent', 'Total Quantity']]\n",
        "scaler = StandardScaler()\n",
        "features_scaled = scaler.fit_transform(features)\n",
        "\n",
        "# Apply K-Means Clustering\n",
        "kmeans = KMeans(n_clusters=4, random_state=42)\n",
        "customer_summary['Cluster'] = kmeans.fit_predict(features_scaled)\n",
        "\n",
        "# Check the clustering result\n",
        "print(customer_summary[['Name', 'Cluster']].head())\n"
      ],
      "metadata": {
        "colab": {
          "base_uri": "https://localhost:8080/"
        },
        "id": "n6QjY7_-l3tn",
        "outputId": "9652e943-9c98-4119-e6cf-a44f48c238a7"
      },
      "execution_count": null,
      "outputs": [
        {
          "output_type": "stream",
          "name": "stdout",
          "text": [
            "  Name  Cluster\n",
            "0  A N        1\n",
            "1  A S        1\n",
            "2  A.N        2\n",
            "3  Aaf        1\n",
            "4  Aak        0\n"
          ]
        },
        {
          "output_type": "stream",
          "name": "stderr",
          "text": [
            "/usr/local/lib/python3.10/dist-packages/sklearn/cluster/_kmeans.py:1416: FutureWarning: The default value of `n_init` will change from 10 to 'auto' in 1.4. Set the value of `n_init` explicitly to suppress the warning\n",
            "  super()._check_params_vs_input(X, default_n_init=10)\n"
          ]
        }
      ]
    },
    {
      "cell_type": "code",
      "source": [
        "import matplotlib.pyplot as plt\n",
        "import seaborn as sns\n",
        "\n",
        "# Plot Customer Segments by Cluster\n",
        "plt.figure(figsize=(12, 6))\n",
        "sns.countplot(data=customer_summary, x='Cluster', order=customer_summary['Cluster'].value_counts().index)\n",
        "plt.title('Customer Segments by Cluster')\n",
        "plt.show()\n"
      ],
      "metadata": {
        "colab": {
          "base_uri": "https://localhost:8080/",
          "height": 564
        },
        "id": "SHMAf92Al6ol",
        "outputId": "a4d19bd4-1a91-4567-f458-2df123893463"
      },
      "execution_count": null,
      "outputs": [
        {
          "output_type": "display_data",
          "data": {
            "text/plain": [
              "<Figure size 1200x600 with 1 Axes>"
            ],
            "image/png": "[encoded data removed]"
          },
          "metadata": {}
        }
      ]
    },
    {
      "cell_type": "code",
      "source": [
        "import pandas as pd\n",
        "\n",
        "# Load the dataset\n",
        "data = pd.read_csv('/content/drive/MyDrive/E commerce/OrdersCleaned.csv')\n",
        "\n",
        "# Check for unique states and cities\n",
        "print(data['State'].unique())\n",
        "print(data['City'].unique())\n"
      ],
      "metadata": {
        "colab": {
          "base_uri": "https://localhost:8080/"
        },
        "id": "7qcsLILjl981",
        "outputId": "3fa32dc4-c0af-4e29-b205-f9014f4bc0e5"
      },
      "execution_count": null,
      "outputs": [
        {
          "output_type": "stream",
          "name": "stdout",
          "text": [
            "['Odisha' 'Maharashtra' 'Karnataka' 'Uttarakhand' 'Madhya Pradesh'\n",
            " 'Tamil Nadu' 'Nagaland' 'Rajasthan' 'Bihar' 'Telangana' 'West Bengal'\n",
            " 'Gujarat' 'Punjab' 'Delhi' 'Andhra Pradesh' 'Haryana' 'Jammu & Kashmir'\n",
            " 'Uttar Pradesh' 'Assam' 'Chattisgarh' 'Meghalaya' 'Himachal Pradesh'\n",
            " 'Kerala' 'Tripura' 'Arunachal Pradesh' 'Mizoram' 'Goa' 'Manipur' 'Sikkim'\n",
            " 'Jharkhand' nan 'Chandigarh' 'Pondicherry' 'Andaman & Nicobar'\n",
            " 'Jammu and Kashmir' 'Bengaluru']\n",
            "['Nayagarh' 'Thane' 'Bangalore' 'Mumbai' 'Pauri Garhwal' 'Indore'\n",
            " 'Nilgiris' 'Dimapur' 'Rajsamand' 'West Champaran' 'Hyderabad'\n",
            " 'North 24 Parganas' 'Rajkot' 'Sangli' 'Ludhiana' 'North West Delhi'\n",
            " 'Coimbatore' 'Visakhapatnam' 'Tiruchirappalli' 'Gurgaon' 'K.V.Rangareddy'\n",
            " 'Kanchipuram' 'Udhampur' 'Faridabad' 'West Delhi' 'Ghaziabad' 'Patiala'\n",
            " 'Bargarh' 'Dharwad' 'Supaul' 'Srikakulam' 'Balangir' 'Bhopal'\n",
            " 'Ananthapur' 'Jodhpur' 'Surat' 'Mandsaur' 'Pudukkottai' 'Namakkal'\n",
            " 'Aurangabad' 'Agra' 'Muzaffarpur' 'Chennai' 'South 24 Parganas' 'Pune'\n",
            " 'Srinagar' 'Kanpur Dehat' 'Jammu' 'South West Delhi' 'Krishna' 'Jalgaon'\n",
            " 'Bagalkot' 'Tiruvallur' 'Dehradun' 'Jamnagar' 'Ahmedabad' 'Kamrup'\n",
            " 'East Champaran' 'Karim Nagar' 'Gautam Buddha Nagar' 'Raipur'\n",
            " 'East Godavari' 'Belgaum' 'Nellore' 'Gulbarga' 'East Khasi Hills'\n",
            " 'Kohima' 'Mysore' 'Kanpur Nagar' 'Anand' 'Barmer' 'Karbi Anglong'\n",
            " 'Umaria' 'Bahraich' 'Dakshina Kannada' 'Bengaluru' 'Bareilly'\n",
            " 'Central Delhi' 'Shimla' 'Raigarh(MH)' 'Thiruvananthapuram' 'Pali'\n",
            " 'Meerut' 'West Tripura' 'Kolkata' 'Hassan' 'Jhansi' 'Seoni' 'South Delhi'\n",
            " 'Banda' 'Rewa' 'Valsad' 'Tinsukia' 'Bikaner' 'Ujjain' 'Krishnagiri'\n",
            " 'Purnia' 'East Delhi' 'Cuddalore' 'Ratnagiri' 'Vadodara' 'Nadia'\n",
            " 'Madurai' 'Barpeta' 'New Delhi' 'Agartala' 'Rangareddy' 'Papum Pare'\n",
            " 'Bangalore Rural' 'Rohtak' 'Latur' 'Satna' 'Nalgonda' 'Kottayam' 'Aizawl'\n",
            " 'South Goa' 'Warangal' 'Medak' 'East Midnapore' 'North Delhi' 'Palakkad'\n",
            " 'Golaghat' 'Imphal West' 'Dibrugarh' 'Amravati' 'Ramanathapuram'\n",
            " 'Lower Subansiri' 'Bhiwani' 'Kolar' 'Amritsar' 'Jaipur' 'East Sikkim'\n",
            " 'Mandya' 'Howrah' 'Navsari' 'Jalandhar' 'Ahmed Nagar' 'Sibsagar'\n",
            " 'Udham Singh Nagar' 'Virudhunagar' 'Haridwar' 'Tuticorin' 'Ganjam'\n",
            " 'Chandrapur' 'Saharanpur' 'Imphal East' 'Patna' 'Panch Mahals' 'Junagadh'\n",
            " 'Kasargod' 'Kurnool' 'Lucknow' 'North Goa' 'Patan' 'Ernakulam' 'Khorda'\n",
            " 'Ranchi' 'Kaushambi' 'Kozhikode' 'Jharsuguda' 'Nagpur' 'Kollam' 'Udupi'\n",
            " 'Mahabub Nagar' 'Sagar' 'Nashik' nan 'Gwalior' 'Chittorgarh' 'Gonda'\n",
            " 'Chandigarh' 'Kendrapara' 'Solapur' 'Varanasi' 'Bharuch' 'Kota' 'Jhajjar'\n",
            " 'Sonipat' 'North East Delhi' 'Guwahati' 'Kannur' 'Dhampur' 'Guntur'\n",
            " 'Jaunpur' 'Cuddapah' 'Tirap' 'Sultanpur' 'Tirunelveli' 'Allahabad'\n",
            " 'Sivaganga' 'Kangra' 'Noida' 'Nizamabad' 'Budgam' 'Adilabad' 'Malappuram'\n",
            " 'Satara' 'Khammam' 'Bhilwara' 'Lower Dibang Valley' 'Salem' 'Villupuram'\n",
            " 'Jorhat' 'Darjiling' 'Gandhi Nagar' 'Kharar' 'Bathinda' 'Kathua'\n",
            " 'Vaishali' 'Mandi' 'Hoshiarpur' 'West Midnapore' 'Pondicherry' 'Hooghly'\n",
            " 'Panchkula' 'Rupnagar' 'West Godavari' 'Darbhanga' 'Siwan' 'Jamtara'\n",
            " 'Chitradurga' 'Bardhaman' 'Chittoor' 'Dhanbad' 'Durg' 'Bellary' 'Leh'\n",
            " 'Cuttack' 'Jagatsinghapur' 'Mokokchung' 'Chickmagalur' 'Rewari'\n",
            " 'Sindhudurg' 'Erode' 'Aligarh' 'Ambala' 'Wayanad' 'Vellore' 'Bhojpur'\n",
            " 'Chamrajnagar' 'Yamuna Nagar' 'Pimpri-Chinchwad' 'Damoh' 'Mayurbhanj'\n",
            " 'Muzaffarnagar' 'Karnal' 'South Andaman' 'Gadag' 'Kanyakumari' 'Solan'\n",
            " 'Ganganagar' 'Karad' 'Bengalore' 'Chikmagalur' 'Mira Bhayandar'\n",
            " 'Chikkaballapur' 'Murshidabad' 'Sonitpur' 'Udaipur' 'East Siang' 'Mau'\n",
            " 'Gurdaspur' 'Gorakhpur' 'Yavatmal' 'Koraput' 'Deoria' 'Koppal' 'Azamgarh'\n",
            " 'Cooch Behar' 'Vizianagaram' 'Surguja' 'Mohali' 'Angul' 'Sawai Madhopur'\n",
            " 'Lakhimpur' 'Greater Noida' 'Tonk' 'Moradabad' 'Barabanki' 'Thrissur'\n",
            " 'Gadchiroli' 'Ratlam' 'Fatehgarh Sahib' 'Bhagalpur' 'Karnataka' 'Bankura'\n",
            " 'Vijapur' 'Wardha' 'Parbhani' 'Kapurthala' 'Haveri' 'Tiruvannamalai'\n",
            " 'Dhule' 'Raigarh' 'Darrang' 'Kachchh' 'Sambalpur' 'Sundergarh'\n",
            " 'Bhavnagar' 'Almora' 'Morena' 'Jalpaiguri' 'Datia' 'Firozpur' 'Kolhapur'\n",
            " 'Ramanagar']\n"
          ]
        }
      ]
    },
    {
      "cell_type": "code",
      "source": [
        "import matplotlib.pyplot as plt\n",
        "import seaborn as sns\n",
        "\n",
        "# Aggregate data by state\n",
        "state_summary = data['State'].value_counts().reset_index()\n",
        "state_summary.columns = ['State', 'Number of Customers']\n",
        "\n",
        "# Plot state-wise distribution\n",
        "plt.figure(figsize=(14, 8))\n",
        "sns.barplot(x='Number of Customers', y='State', data=state_summary, palette='viridis')\n",
        "plt.title('Customer Distribution by State')\n",
        "plt.xlabel('Number of Customers')\n",
        "plt.ylabel('State')\n",
        "plt.show()\n"
      ],
      "metadata": {
        "colab": {
          "base_uri": "https://localhost:8080/",
          "height": 685
        },
        "id": "MIu62UZSmNvC",
        "outputId": "58e9785c-fc8a-410d-fde0-0dd4553a1ea6"
      },
      "execution_count": null,
      "outputs": [
        {
          "output_type": "stream",
          "name": "stderr",
          "text": [
            "<ipython-input-56-fd562f2b69d2>:10: FutureWarning: \n",
            "\n",
            "Passing `palette` without assigning `hue` is deprecated and will be removed in v0.14.0. Assign the `y` variable to `hue` and set `legend=False` for the same effect.\n",
            "\n",
            "  sns.barplot(x='Number of Customers', y='State', data=state_summary, palette='viridis')\n"
          ]
        },
        {
          "output_type": "display_data",
          "data": {
            "text/plain": [
              "<Figure size 1400x800 with 1 Axes>"
            ],
            "image/png": "[encoded data removed]"
          },
          "metadata": {}
        }
      ]
    },
    {
      "cell_type": "code",
      "source": [
        "pip install folium geopy\n"
      ],
      "metadata": {
        "colab": {
          "base_uri": "https://localhost:8080/"
        },
        "id": "On_5bZA3mSCC",
        "outputId": "495b7957-fccf-4bd8-d576-ba29e30eff2e"
      },
      "execution_count": null,
      "outputs": [
        {
          "output_type": "stream",
          "name": "stdout",
          "text": [
            "Requirement already satisfied: folium in /usr/local/lib/python3.10/dist-packages (0.17.0)\n",
            "Requirement already satisfied: geopy in /usr/local/lib/python3.10/dist-packages (2.4.1)\n",
            "Requirement already satisfied: branca>=0.6.0 in /usr/local/lib/python3.10/dist-packages (from folium) (0.7.2)\n",
            "Requirement already satisfied: jinja2>=2.9 in /usr/local/lib/python3.10/dist-packages (from folium) (3.1.4)\n",
            "Requirement already satisfied: numpy in /usr/local/lib/python3.10/dist-packages (from folium) (1.26.4)\n",
            "Requirement already satisfied: requests in /usr/local/lib/python3.10/dist-packages (from folium) (2.32.3)\n",
            "Requirement already satisfied: xyzservices in /usr/local/lib/python3.10/dist-packages (from folium) (2024.6.0)\n",
            "Requirement already satisfied: geographiclib<3,>=1.52 in /usr/local/lib/python3.10/dist-packages (from geopy) (2.0)\n",
            "Requirement already satisfied: MarkupSafe>=2.0 in /usr/local/lib/python3.10/dist-packages (from jinja2>=2.9->folium) (2.1.5)\n",
            "Requirement already satisfied: charset-normalizer<4,>=2 in /usr/local/lib/python3.10/dist-packages (from requests->folium) (3.3.2)\n",
            "Requirement already satisfied: idna<4,>=2.5 in /usr/local/lib/python3.10/dist-packages (from requests->folium) (3.7)\n",
            "Requirement already satisfied: urllib3<3,>=1.21.1 in /usr/local/lib/python3.10/dist-packages (from requests->folium) (2.0.7)\n",
            "Requirement already satisfied: certifi>=2017.4.17 in /usr/local/lib/python3.10/dist-packages (from requests->folium) (2024.7.4)\n"
          ]
        }
      ]
    },
    {
      "cell_type": "code",
      "source": [
        "from geopy.geocoders import Nominatim\n",
        "import folium\n",
        "\n",
        "# Initialize geocoder\n",
        "geolocator = Nominatim(user_agent=\"my_app_v1.0\")\n",
        "\n",
        "def get_lat_lon(city, state):\n",
        "    location = geolocator.geocode(f\"{city}, {state}\")\n",
        "    if location:\n",
        "        return location.latitude, location.longitude\n",
        "    else:\n",
        "        return None, None\n",
        "\n",
        "# Apply geocoding\n",
        "data[['Latitude', 'Longitude']] = data.apply(lambda row: pd.Series(get_lat_lon(row['City'], row['State'])), axis=1)\n",
        "\n",
        "# Drop rows with missing coordinates\n",
        "data = data.dropna(subset=['Latitude', 'Longitude'])\n",
        "\n",
        "# Create a base map\n",
        "m = folium.Map(location=[data['Latitude'].mean(), data['Longitude'].mean()], zoom_start=5)\n",
        "\n",
        "# Add customer locations\n",
        "for _, row in data.iterrows():\n",
        "    folium.CircleMarker(\n",
        "        location=[row['Latitude'], row['Longitude']],\n",
        "        radius=5,\n",
        "        color='blue',\n",
        "        fill=True,\n",
        "        fill_color='blue',\n",
        "        fill_opacity=0.6\n",
        "    ).add_to(m)\n",
        "\n",
        "# Save or display map\n",
        "m.save('customer_distribution_map.html')\n"
      ],
      "metadata": {
        "colab": {
          "base_uri": "https://localhost:8080/"
        },
        "id": "o4Tzn9wEmUnq",
        "outputId": "e1826798-3f3d-477b-d69c-ad09a53fffe4"
      },
      "execution_count": null,
      "outputs": [
        {
          "output_type": "stream",
          "name": "stderr",
          "text": [
            "WARNING:urllib3.connectionpool:Retrying (Retry(total=1, connect=None, read=None, redirect=None, status=None)) after connection broken by 'ReadTimeoutError(\"HTTPSConnectionPool(host='nominatim.openstreetmap.org', port=443): Read timed out. (read timeout=1)\")': /search?q=Mumbai%2C+Maharashtra&format=json&limit=1\n",
            "WARNING:urllib3.connectionpool:Retrying (Retry(total=1, connect=None, read=None, redirect=None, status=None)) after connection broken by 'ReadTimeoutError(\"HTTPSConnectionPool(host='nominatim.openstreetmap.org', port=443): Read timed out. (read timeout=1)\")': /search?q=Bangalore%2C+Karnataka&format=json&limit=1\n",
            "WARNING:urllib3.connectionpool:Retrying (Retry(total=1, connect=None, read=None, redirect=None, status=None)) after connection broken by 'ReadTimeoutError(\"HTTPSConnectionPool(host='nominatim.openstreetmap.org', port=443): Read timed out. (read timeout=1)\")': /search?q=Mumbai%2C+Maharashtra&format=json&limit=1\n",
            "WARNING:urllib3.connectionpool:Retrying (Retry(total=1, connect=None, read=None, redirect=None, status=None)) after connection broken by 'ReadTimeoutError(\"HTTPSConnectionPool(host='nominatim.openstreetmap.org', port=443): Read timed out. (read timeout=1)\")': /search?q=Mumbai%2C+Maharashtra&format=json&limit=1\n",
            "WARNING:urllib3.connectionpool:Retrying (Retry(total=0, connect=None, read=None, redirect=None, status=None)) after connection broken by 'ReadTimeoutError(\"HTTPSConnectionPool(host='nominatim.openstreetmap.org', port=443): Read timed out. (read timeout=1)\")': /search?q=Mumbai%2C+Maharashtra&format=json&limit=1\n",
            "WARNING:urllib3.connectionpool:Retrying (Retry(total=1, connect=None, read=None, redirect=None, status=None)) after connection broken by 'ReadTimeoutError(\"HTTPSConnectionPool(host='nominatim.openstreetmap.org', port=443): Read timed out. (read timeout=1)\")': /search?q=Mumbai%2C+Maharashtra&format=json&limit=1\n",
            "WARNING:urllib3.connectionpool:Retrying (Retry(total=1, connect=None, read=None, redirect=None, status=None)) after connection broken by 'ReadTimeoutError(\"HTTPSConnectionPool(host='nominatim.openstreetmap.org', port=443): Read timed out. (read timeout=1)\")': /search?q=Surat%2C+Gujarat&format=json&limit=1\n",
            "WARNING:urllib3.connectionpool:Retrying (Retry(total=1, connect=None, read=None, redirect=None, status=None)) after connection broken by 'ReadTimeoutError(\"HTTPSConnectionPool(host='nominatim.openstreetmap.org', port=443): Read timed out. (read timeout=1)\")': /search?q=Mumbai%2C+Maharashtra&format=json&limit=1\n",
            "WARNING:urllib3.connectionpool:Retrying (Retry(total=1, connect=None, read=None, redirect=None, status=None)) after connection broken by 'ReadTimeoutError(\"HTTPSConnectionPool(host='nominatim.openstreetmap.org', port=443): Read timed out. (read timeout=1)\")': /search?q=Bangalore%2C+Karnataka&format=json&limit=1\n",
            "WARNING:urllib3.connectionpool:Retrying (Retry(total=1, connect=None, read=None, redirect=None, status=None)) after connection broken by 'ReadTimeoutError(\"HTTPSConnectionPool(host='nominatim.openstreetmap.org', port=443): Read timed out. (read timeout=1)\")': /search?q=Pune%2C+Maharashtra&format=json&limit=1\n",
            "WARNING:urllib3.connectionpool:Retrying (Retry(total=1, connect=None, read=None, redirect=None, status=None)) after connection broken by 'ReadTimeoutError(\"HTTPSConnectionPool(host='nominatim.openstreetmap.org', port=443): Read timed out. (read timeout=1)\")': /search?q=Thane%2C+Maharashtra&format=json&limit=1\n",
            "WARNING:urllib3.connectionpool:Retrying (Retry(total=1, connect=None, read=None, redirect=None, status=None)) after connection broken by 'ReadTimeoutError(\"HTTPSConnectionPool(host='nominatim.openstreetmap.org', port=443): Read timed out. (read timeout=1)\")': /search?q=Kolar%2C+Karnataka&format=json&limit=1\n",
            "WARNING:urllib3.connectionpool:Retrying (Retry(total=1, connect=None, read=None, redirect=None, status=None)) after connection broken by 'ReadTimeoutError(\"HTTPSConnectionPool(host='nominatim.openstreetmap.org', port=443): Read timed out. (read timeout=1)\")': /search?q=Mau%2C+Uttar+Pradesh&format=json&limit=1\n",
            "WARNING:urllib3.connectionpool:Retrying (Retry(total=0, connect=None, read=None, redirect=None, status=None)) after connection broken by 'ReadTimeoutError(\"HTTPSConnectionPool(host='nominatim.openstreetmap.org', port=443): Read timed out. (read timeout=1)\")': /search?q=Mau%2C+Uttar+Pradesh&format=json&limit=1\n",
            "WARNING:urllib3.connectionpool:Retrying (Retry(total=1, connect=None, read=None, redirect=None, status=None)) after connection broken by 'ReadTimeoutError(\"HTTPSConnectionPool(host='nominatim.openstreetmap.org', port=443): Read timed out. (read timeout=1)\")': /search?q=Mumbai%2C+Maharashtra&format=json&limit=1\n",
            "WARNING:urllib3.connectionpool:Retrying (Retry(total=1, connect=None, read=None, redirect=None, status=None)) after connection broken by 'ReadTimeoutError(\"HTTPSConnectionPool(host='nominatim.openstreetmap.org', port=443): Read timed out. (read timeout=1)\")': /search?q=Kolkata%2C+West+Bengal&format=json&limit=1\n",
            "WARNING:urllib3.connectionpool:Retrying (Retry(total=1, connect=None, read=None, redirect=None, status=None)) after connection broken by 'ReadTimeoutError(\"HTTPSConnectionPool(host='nominatim.openstreetmap.org', port=443): Read timed out. (read timeout=1)\")': /search?q=Bareilly%2C+Uttar+Pradesh&format=json&limit=1\n",
            "WARNING:urllib3.connectionpool:Retrying (Retry(total=1, connect=None, read=None, redirect=None, status=None)) after connection broken by 'ReadTimeoutError(\"HTTPSConnectionPool(host='nominatim.openstreetmap.org', port=443): Read timed out. (read timeout=1)\")': /search?q=Surat%2C+Gujarat&format=json&limit=1\n",
            "WARNING:urllib3.connectionpool:Retrying (Retry(total=0, connect=None, read=None, redirect=None, status=None)) after connection broken by 'ReadTimeoutError(\"HTTPSConnectionPool(host='nominatim.openstreetmap.org', port=443): Read timed out. (read timeout=1)\")': /search?q=Surat%2C+Gujarat&format=json&limit=1\n",
            "WARNING:urllib3.connectionpool:Retrying (Retry(total=1, connect=None, read=None, redirect=None, status=None)) after connection broken by 'ReadTimeoutError(\"HTTPSConnectionPool(host='nominatim.openstreetmap.org', port=443): Read timed out. (read timeout=1)\")': /search?q=Aizawl%2C+Mizoram&format=json&limit=1\n",
            "WARNING:urllib3.connectionpool:Retrying (Retry(total=1, connect=None, read=None, redirect=None, status=None)) after connection broken by 'ReadTimeoutError(\"HTTPSConnectionPool(host='nominatim.openstreetmap.org', port=443): Read timed out. (read timeout=1)\")': /search?q=Jaipur%2C+Rajasthan&format=json&limit=1\n",
            "WARNING:urllib3.connectionpool:Retrying (Retry(total=1, connect=None, read=None, redirect=None, status=None)) after connection broken by 'ReadTimeoutError(\"HTTPSConnectionPool(host='nominatim.openstreetmap.org', port=443): Read timed out. (read timeout=1)\")': /search?q=Mumbai%2C+Maharashtra&format=json&limit=1\n",
            "WARNING:urllib3.connectionpool:Retrying (Retry(total=1, connect=None, read=None, redirect=None, status=None)) after connection broken by 'ReadTimeoutError(\"HTTPSConnectionPool(host='nominatim.openstreetmap.org', port=443): Read timed out. (read timeout=1)\")': /search?q=Rajkot%2C+Gujarat&format=json&limit=1\n",
            "WARNING:urllib3.connectionpool:Retrying (Retry(total=1, connect=None, read=None, redirect=None, status=None)) after connection broken by 'ReadTimeoutError(\"HTTPSConnectionPool(host='nominatim.openstreetmap.org', port=443): Read timed out. (read timeout=1)\")': /search?q=Nagpur%2C+Maharashtra&format=json&limit=1\n",
            "WARNING:urllib3.connectionpool:Retrying (Retry(total=1, connect=None, read=None, redirect=None, status=None)) after connection broken by 'ReadTimeoutError(\"HTTPSConnectionPool(host='nominatim.openstreetmap.org', port=443): Read timed out. (read timeout=1)\")': /search?q=Thrissur%2C+Kerala&format=json&limit=1\n"
          ]
        }
      ]
    },
    {
      "cell_type": "code",
      "source": [
        "from folium.plugins import HeatMap\n",
        "\n",
        "# Create a base map\n",
        "m = folium.Map(location=[data['Latitude'].mean(), data['Longitude'].mean()], zoom_start=5)\n",
        "\n",
        "# Prepare data for heatmap\n",
        "heat_data = [[row['Latitude'], row['Longitude']] for _, row in data.iterrows()]\n",
        "\n",
        "# Add heatmap to the base map\n",
        "HeatMap(heat_data).add_to(m)\n",
        "\n",
        "# Save or display map\n",
        "m.save('customer_heatmap.html')\n",
        "m\n"
      ],
      "metadata": {
        "colab": {
          "base_uri": "https://localhost:8080/",
          "height": 626
        },
        "id": "m6pxqJFbvitl",
        "outputId": "fd8c71c4-1e56-4969-b138-371fdb23dd96"
      },
      "execution_count": null,
      "outputs": [
        {
          "output_type": "execute_result",
          "data": {
            "text/plain": [
              "<folium.folium.Map at 0x7de517c6aad0>"
            ],
            "text/html": [
              "<div style=\"width:100%;\"><div style=\"position:relative;width:100%;height:0;padding-bottom:60%;\"><span style=\"color:#565656\">Make this Notebook Trusted to load map: File -> Trust Notebook</span><iframe srcdoc=\"&lt;!DOCTYPE html&gt;\n",
              "&lt;html&gt;\n",
              "&lt;head&gt;\n",
              "    \n",
              "    &lt;meta http-equiv=&quot;content-type&quot; content=&quot;text/html; charset=UTF-8&quot; /&gt;\n",
              "    \n",
              "        &lt;script&gt;\n",
              "            L_NO_TOUCH = false;\n",
              "            L_DISABLE_3D = false;\n",
              "        &lt;/script&gt;\n",
              "    \n",
              "    &lt;style&gt;html, body {width: 100%;height: 100%;margin: 0;padding: 0;}&lt;/style&gt;\n",
              "    &lt;style&gt;#map {position:absolute;top:0;bottom:0;right:0;left:0;}&lt;/style&gt;\n",
              "    &lt;script src=&quot;https://cdn.jsdelivr.net/npm/leaflet@1.9.3/dist/leaflet.js&quot;&gt;&lt;/script&gt;\n",
              "    &lt;script src=&quot;https://code.jquery.com/jquery-3.7.1.min.js&quot;&gt;&lt;/script&gt;\n",
              "    &lt;script src=&quot;https://cdn.jsdelivr.net/npm/bootstrap@5.2.2/dist/js/bootstrap.bundle.min.js&quot;&gt;&lt;/script&gt;\n",
              "    &lt;script src=&quot;https://cdnjs.cloudflare.com/ajax/libs/Leaflet.awesome-markers/2.0.2/leaflet.awesome-markers.js&quot;&gt;&lt;/script&gt;\n",
              "    &lt;link rel=&quot;stylesheet&quot; href=&quot;https://cdn.jsdelivr.net/npm/leaflet@1.9.3/dist/leaflet.css&quot;/&gt;\n",
              "    &lt;link rel=&quot;stylesheet&quot; href=&quot;https://cdn.jsdelivr.net/npm/bootstrap@5.2.2/dist/css/bootstrap.min.css&quot;/&gt;\n",
              "    &lt;link rel=&quot;stylesheet&quot; href=&quot;https://netdna.bootstrapcdn.com/bootstrap/3.0.0/css/bootstrap-glyphicons.css&quot;/&gt;\n",
              "    &lt;link rel=&quot;stylesheet&quot; href=&quot;https://cdn.jsdelivr.net/npm/@fortawesome/fontawesome-free@6.2.0/css/all.min.css&quot;/&gt;\n",
              "    &lt;link rel=&quot;stylesheet&quot; href=&quot;https://cdnjs.cloudflare.com/ajax/libs/Leaflet.awesome-markers/2.0.2/leaflet.awesome-markers.css&quot;/&gt;\n",
              "    &lt;link rel=&quot;stylesheet&quot; href=&quot;https://cdn.jsdelivr.net/gh/python-visualization/folium/folium/templates/leaflet.awesome.rotate.min.css&quot;/&gt;\n",
              "    \n",
              "            &lt;meta name=&quot;viewport&quot; content=&quot;width=device-width,\n",
              "                initial-scale=1.0, maximum-scale=1.0, user-scalable=no&quot; /&gt;\n",
              "            &lt;style&gt;\n",
              "                #map_3142ea63c552a29dc7a60acb85a40802 {\n",
              "                    position: relative;\n",
              "                    width: 100.0%;\n",
              "                    height: 100.0%;\n",
              "                    left: 0.0%;\n",
              "                    top: 0.0%;\n",
              "                }\n",
              "                .leaflet-container { font-size: 1rem; }\n",
              "            &lt;/style&gt;\n",
              "        \n",
              "    &lt;script src=&quot;https://cdn.jsdelivr.net/gh/python-visualization/folium@main/folium/templates/leaflet_heat.min.js&quot;&gt;&lt;/script&gt;\n",
              "&lt;/head&gt;\n",
              "&lt;body&gt;\n",
              "    \n",
              "    \n",
              "            &lt;div class=&quot;folium-map&quot; id=&quot;map_3142ea63c552a29dc7a60acb85a40802&quot; &gt;&lt;/div&gt;\n",
              "        \n",
              "&lt;/body&gt;\n",
              "&lt;script&gt;\n",
              "    \n",
              "    \n",
              "            var map_3142ea63c552a29dc7a60acb85a40802 = L.map(\n",
              "                &quot;map_3142ea63c552a29dc7a60acb85a40802&quot;,\n",
              "                {\n",
              "                    center: [21.17435437685422, 78.58111848823431],\n",
              "                    crs: L.CRS.EPSG3857,\n",
              "                    zoom: 5,\n",
              "                    zoomControl: true,\n",
              "                    preferCanvas: false,\n",
              "                }\n",
              "            );\n",
              "\n",
              "            \n",
              "\n",
              "        \n",
              "    \n",
              "            var tile_layer_110323cb8123cf2b50fcf78529b9fae6 = L.tileLayer(\n",
              "                &quot;https://tile.openstreetmap.org/{z}/{x}/{y}.png&quot;,\n",
              "                {&quot;attribution&quot;: &quot;\\u0026copy; \\u003ca href=\\&quot;https://www.openstreetmap.org/copyright\\&quot;\\u003eOpenStreetMap\\u003c/a\\u003e contributors&quot;, &quot;detectRetina&quot;: false, &quot;maxNativeZoom&quot;: 19, &quot;maxZoom&quot;: 19, &quot;minZoom&quot;: 0, &quot;noWrap&quot;: false, &quot;opacity&quot;: 1, &quot;subdomains&quot;: &quot;abc&quot;, &quot;tms&quot;: false}\n",
              "            );\n",
              "        \n",
              "    \n",
              "            tile_layer_110323cb8123cf2b50fcf78529b9fae6.addTo(map_3142ea63c552a29dc7a60acb85a40802);\n",
              "        \n",
              "    \n",
              "            var heat_map_4fcde590ac518c747f3f05eb87aeb64a = L.heatLayer(\n",
              "                [[20.1160666, 85.11195643843573], [19.1943294, 72.9701779], [12.9767936, 77.590082], [19.08157715, 72.88662753964906], [29.8473168, 78.70704792061838], [22.7203616, 75.8681996], [11.4449997, 76.69751997973526], [19.08157715, 72.88662753964906], [25.911744, 93.721703], [19.1943294, 72.9701779], [25.2892459, 73.8241077454327], [27.0518367, 84.33512093905162], [17.360589, 78.4740613], [19.1943294, 72.9701779], [22.692681450000002, 88.66257945063968], [22.3053263, 70.8028377], [16.8502534, 74.5948885], [30.9090157, 75.851601], [28.737914449999998, 77.01006262588218], [11.0018115, 76.9628425], [17.7231276, 83.3012842], [19.08157715, 72.88662753964906], [22.692681450000002, 88.66257945063968], [10.804973, 78.6870296], [28.4646148, 77.0299194], [17.360589, 78.4740613], [17.7231276, 83.3012842], [12.9647163, 79.9839686], [33.0, 75.166667], [28.4031478, 77.3105561], [28.6545456, 77.0810555082151], [12.9647163, 79.9839686], [28.7678881, 77.46066723508514], [30.20927775, 76.33972313649818], [17.7231276, 83.3012842], [19.08157715, 72.88662753964906], [12.9767936, 77.590082], [21.347763399999998, 83.65768298821486], [28.4646148, 77.0299194], [12.9767936, 77.590082], [15.3707296, 75.13328673460543], [19.08157715, 72.88662753964906], [25.911744, 93.721703], [25.911744, 93.721703], [26.2768089, 86.79596143977405], [18.622438000000002, 84.14437640941347], [20.74978325, 83.44097217446247], [12.9767936, 77.590082], [19.08157715, 72.88662753964906], [12.9767936, 77.590082], [23.2584857, 77.401989], [14.4469209, 77.699419], [26.2967719, 73.0351433], [21.2094892, 72.8317058], [24.2628148, 75.38569204340352], [11.0018115, 76.9628425], [10.5, 78.833333], [11.303388949999999, 78.1186040211884], [12.9767936, 77.590082], [12.9767936, 77.590082], [28.4646148, 77.0299194], [19.877263, 75.3390241], [27.1752554, 78.0098161], [26.1482548, 85.3316096785584], [13.0836939, 80.270186], [17.360589, 78.4740613], [22.1776733, 88.53078530426869], [22.7203616, 75.8681996], [18.5213738, 73.8545071], [28.4646148, 77.0299194], [34.0747444, 74.8204443], [26.45856395, 79.85480520543226], [32.7185614, 74.8580917], [28.58644805, 76.97915298462692], [16.21277, 81.03069575082347], [20.84288265, 75.52612463784979], [19.1943294, 72.9701779], [16.1793224, 75.6999315], [30.9090157, 75.851601], [13.1394221, 79.9070839], [12.9767936, 77.590082], [19.08157715, 72.88662753964906], [30.3255646, 78.0436813], [12.9767936, 77.590082], [22.4732415, 70.0552102], [23.0215374, 72.5800568], [17.360589, 78.4740613], [26.14688605, 91.22273972821812], [26.639326099999998, 84.89901361577535], [17.1529018, 79.6866589], [18.5213738, 73.8545071], [19.08157715, 72.88662753964906], [28.3695198, 77.59708927492271], [21.2380912, 81.6336993], [12.9767936, 77.590082], [19.08157715, 72.88662753964906], [16.99566385, 81.71543778889063], [15.8572666, 74.5069343], [12.9647163, 79.9839686], [14.4493717, 79.9873763], [19.08157715, 72.88662753964906], [13.0836939, 80.270186], [17.166667, 77.083333], [25.40237355, 91.83171775361184], [12.9767936, 77.590082], [25.6618755, 94.1019156], [17.360589, 78.4740613], [28.737914449999998, 77.01006262588218], [16.99566385, 81.71543778889063], [12.3051828, 76.6553609], [26.4410107, 80.26528025980129], [22.5586555, 72.9627227], [25.5814853, 71.19249222700306], [26.0, 93.5], [19.1943294, 72.9701779], [18.5213738, 73.8545071], [23.64318365, 80.94190777719564], [28.3695198, 77.59708927492271], [13.0836939, 80.270186], [27.734382250000003, 81.47653998303304], [12.82264335, 75.22650362528617], [12.98815675, 77.62260003796], [12.9767936, 77.590082], [28.45823445, 79.40474517998476], [12.9767936, 77.590082], [25.911744, 93.721703], [23.0215374, 72.5800568], [28.699009500000003, 77.23146337815574], [31.1041526, 77.1709729], [19.0505098, 73.06543345], [19.1943294, 72.9701779], [8.4882267, 76.947551], [19.1943294, 72.9701779], [28.3695198, 77.59708927492271], [31.1041526, 77.1709729], [25.45522105, 73.4193889559074], [29.0018557, 77.76796714992041], [19.1943294, 72.9701779], [23.916667, 91.5], [12.9647163, 79.9839686], [22.5726459, 88.3638953], [13.030185249999999, 76.17449676658171], [13.0836939, 80.270186], [25.529855, 78.65278023546288], [26.45856395, 79.85480520543226], [13.1394221, 79.9070839], [14.4493717, 79.9873763], [17.360589, 78.4740613], [22.1776733, 88.53078530426869], [22.2748109, 79.72025222428486], [22.5726459, 88.3638953], [28.485169399999997, 77.19636520348229], [25.4775297, 80.334921], [24.75608455, 81.38105738502682], [20.43219565, 73.14098929730321], [18.622438000000002, 84.14437640941347], [27.4879722, 95.3601855], [28.0159286, 73.3171367], [23.1885131, 75.7716562], [19.08157715, 72.88662753964906], [17.360589, 78.4740613], [28.737914449999998, 77.01006262588218], [12.5188835, 78.2206536], [26.0, 87.5], [28.485169399999997, 77.19636520348229], [17.360589, 78.4740613], [19.08157715, 72.88662753964906], [28.6117432, 77.29827941818031], [10.804973, 78.6870296], [32.7185614, 74.8580917], [17.360589, 78.4740613], [11.52020705, 79.33963564750636], [19.08157715, 72.88662753964906], [17.282607900000002, 73.4569787039826], [8.4882267, 76.947551], [22.2973142, 73.1942567], [23.4847374, 88.55670673333935], [25.529855, 78.65278023546288], [28.737914449999998, 77.01006262588218], [19.08157715, 72.88662753964906], [19.1943294, 72.9701779], [9.9261153, 78.1140983], [13.1394221, 79.9070839], [25.911744, 93.721703], [28.7678881, 77.46066723508514], [26.34142215, 91.01674328474073], [11.0018115, 76.9628425], [12.9767936, 77.590082], [22.5726459, 88.3638953], [28.6138954, 77.2090057], [23.8312377, 91.2823821], [16.9344152, 77.7788338], [30.3255646, 78.0436813], [16.99566385, 81.71543778889063], [27.286366649999998, 93.61877159710389], [28.4031478, 77.3105561], [12.9767936, 77.590082], [12.9767936, 77.590082], [18.5213738, 73.8545071], [13.0010872, 77.3361225], [28.9010899, 76.5801935], [19.0505098, 73.06543345], [28.6545456, 77.0810555082151], [12.9767936, 77.590082], [12.9767936, 77.590082], [21.2094892, 72.8317058], [12.9767936, 77.590082], [18.35159075, 76.75542361334745], [24.5, 81.0], [28.699009500000003, 77.23146337815574], [16.8579636, 79.21749353315548], [19.08157715, 72.88662753964906], [12.9767936, 77.590082], [28.6545456, 77.0810555082151], [23.0215374, 72.5800568], [9.6287383, 76.64553257390992], [16.8579636, 79.21749353315548], [23.7433532, 92.7382756], [15.219624, 74.1159084575026], [23.0215374, 72.5800568], [17.9820644, 79.5970954], [17.9375095, 78.21174498510584], [18.5213738, 73.8545071], [28.6117432, 77.29827941818031], [16.99566385, 81.71543778889063], [28.58644805, 76.97915298462692], [22.052110749999997, 88.07124658150045], [12.9647163, 79.9839686], [17.7231276, 83.3012842], [28.699009500000003, 77.23146337815574], [17.360589, 78.4740613], [19.08157715, 72.88662753964906], [26.4410107, 80.26528025980129], [17.360589, 78.4740613], [28.78722785, 77.09809032829239], [17.360589, 78.4740613], [12.9767936, 77.590082], [18.5213738, 73.8545071], [12.9767936, 77.590082], [12.9767936, 77.590082], [28.7678881, 77.46066723508514], [10.78736915, 76.47421718925105], [26.5108262, 93.9743686], [24.757326, 93.85847858025147], [28.7678881, 77.46066723508514], [19.0505098, 73.06543345], [19.08157715, 72.88662753964906], [27.4844597, 94.9019447], [21.15454115, 77.64429617998744], [9.5205576, 78.51846345155016], [21.2094892, 72.8317058], [28.3695198, 77.59708927492271], [27.8, 93.6], [18.5213738, 73.8545071], [19.1943294, 72.9701779], [12.9767936, 77.590082], [28.78722785, 77.09809032829239], [28.7931703, 76.1391283], [13.18050655, 78.26693288646007], [31.6343083, 74.8736788], [31.6343083, 74.8736788], [26.9154576, 75.8189817], [28.737914449999998, 77.01006262588218], [27.3163644, 88.5975829], [12.5238888, 76.8961961], [28.6545456, 77.0810555082151], [22.5736296, 88.3251045], [19.1943294, 72.9701779], [20.952407, 72.9323831], [19.0505098, 73.06543345], [12.9767936, 77.590082], [31.29223115, 75.56788777097373], [28.58644805, 76.97915298462692], [18.4711751, 73.90722485], [26.96388985, 94.58213344568205], [29.04783135, 79.43261636543795], [28.485169399999997, 77.19636520348229], [12.9767936, 77.590082], [19.08157715, 72.88662753964906], [12.9647163, 79.9839686], [13.0836939, 80.270186], [9.4926289, 77.86318306460637], [22.692681450000002, 88.66257945063968], [18.35159075, 76.75542361334745], [29.9384473, 78.1452985], [8.8052602, 78.1452745], [12.9767936, 77.590082], [28.485169399999997, 77.19636520348229], [28.4646148, 77.0299194], [19.08157715, 72.88662753964906], [10.804973, 78.6870296], [23.916667, 91.5], [19.3883898, 85.0496786], [20.0967555, 79.50454752230621], [15.219624, 74.1159084575026], [17.360589, 78.4740613], [20.952407, 72.9323831], [12.9647163, 79.9839686], [22.5726459, 88.3638953], [18.5213738, 73.8545071], [25.911744, 93.721703], [19.08157715, 72.88662753964906], [12.9767936, 77.590082], [29.9856799, 77.50406459058038], [13.0836939, 80.270186], [28.4646148, 77.0299194], [19.08157715, 72.88662753964906], [28.7678881, 77.46066723508514], [24.85154025, 94.00947957721581], [17.360589, 78.4740613], [27.286366649999998, 93.61877159710389], [19.08157715, 72.88662753964906], [12.9767936, 77.590082], [28.7678881, 77.46066723508514], [28.6117432, 77.29827941818031], [31.29223115, 75.56788777097373], [19.1943294, 72.9701779], [15.219624, 74.1159084575026], [28.6117432, 77.29827941818031], [25.6093239, 85.1235252], [31.29223115, 75.56788777097373], [18.5213738, 73.8545071], [19.08157715, 72.88662753964906], [28.6117432, 77.29827941818031], [23.0, 74.0], [21.5220416, 70.4582458], [34.0747444, 74.8204443], [12.4914722, 74.9877613], [25.40237355, 91.83171775361184], [21.2380912, 81.6336993], [30.9090157, 75.851601], [19.08157715, 72.88662753964906], [18.5213738, 73.8545071], [12.9767936, 77.590082], [25.911744, 93.721703], [28.58644805, 76.97915298462692], [21.2380912, 81.6336993], [15.8309251, 78.0425373], [17.360589, 78.4740613], [26.8381, 80.9346001], [13.0836939, 80.270186], [15.60444125, 74.00172406307475], [26.14688605, 91.22273972821812], [12.9767936, 77.590082], [23.773753, 71.67985812598445], [26.14688605, 91.22273972821812], [22.5726459, 88.3638953], [17.360589, 78.4740613], [28.6117432, 77.29827941818031], [19.08157715, 72.88662753964906], [10.038394700000001, 76.50741452482532], [22.5726459, 88.3638953], [20.1651311, 85.6206598], [26.14688605, 91.22273972821812], [23.3700501, 85.3250387], [19.08157715, 72.88662753964906], [25.5342456, 81.44935673966953], [25.6093239, 85.1235252], [12.9767936, 77.590082], [22.692681450000002, 88.66257945063968], [12.9767936, 77.590082], [10.038394700000001, 76.50741452482532], [10.038394700000001, 76.50741452482532], [18.5213738, 73.8545071], [26.9154576, 75.8189817], [11.2450558, 75.7754716], [32.7185614, 74.8580917], [21.87705125, 84.00905063735019], [21.1498134, 79.0820556], [8.9674039, 76.85857804538561], [11.303388949999999, 78.1186040211884], [28.6117432, 77.29827941818031], [32.7185614, 74.8580917], [13.3419169, 74.7473232], [19.08157715, 72.88662753964906], [19.08157715, 72.88662753964906], [19.08157715, 72.88662753964906], [31.1041526, 77.1709729], [22.5586555, 72.9627227], [12.9647163, 79.9839686], [23.808307550000002, 78.75825398721975], [15.8572666, 74.5069343], [13.1394221, 79.9070839], [17.7231276, 83.3012842], [31.6343083, 74.8736788], [20.0112475, 73.7902364], [17.360589, 78.4740613], [19.08157715, 72.88662753964906], [29.3644727, 112.3905651], [32.7185614, 74.8580917], [12.9647163, 79.9839686], [19.08157715, 72.88662753964906], [12.9767936, 77.590082], [16.21277, 81.03069575082347], [18.5213738, 73.8545071], [12.9647163, 79.9839686], [28.6545456, 77.0810555082151], [12.82264335, 75.22650362528617], [17.360589, 78.4740613], [12.9767936, 77.590082], [15.60444125, 74.00172406307475], [19.08157715, 72.88662753964906], [26.2037247, 78.1573628], [24.7171578, 74.47181293724019], [33.0, 75.166667], [20.0112475, 73.7902364], [25.6093239, 85.1235252], [12.9767936, 77.590082], [28.4646148, 77.0299194], [22.692681450000002, 88.66257945063968], [17.9375095, 78.21174498510584], [25.40237355, 91.83171775361184], [17.360589, 78.4740613], [22.4732415, 70.0552102], [12.9767936, 77.590082], [13.0836939, 80.270186], [19.08157715, 72.88662753964906], [12.9767936, 77.590082], [12.9767936, 77.590082], [27.1103723, 81.92389055909715], [30.72984395, 76.78414567016054], [19.0505098, 73.06543345], [19.3883898, 85.0496786], [19.08157715, 72.88662753964906], [26.14688605, 91.22273972821812], [26.639326099999998, 84.89901361577535], [19.1943294, 72.9701779], [28.6545456, 77.0810555082151], [22.692681450000002, 88.66257945063968], [20.50040085, 86.43170622796478], [15.3707296, 75.13328673460543], [23.0215374, 72.5800568], [27.286366649999998, 93.61877159710389], [12.9647163, 79.9839686], [18.5213738, 73.8545071], [19.1943294, 72.9701779], [19.1943294, 72.9701779], [28.7678881, 77.46066723508514], [12.9767936, 77.590082], [25.6093239, 85.1235252], [19.08157715, 72.88662753964906], [19.1943294, 72.9701779], [19.08157715, 72.88662753964906], [17.360589, 78.4740613], [17.84990665, 75.27632027348457], [20.1651311, 85.6206598], [28.58644805, 76.97915298462692], [25.3356491, 83.0076292], [28.6117432, 77.29827941818031], [12.9647163, 79.9839686], [12.9647163, 79.9839686], [21.82728385, 72.89284864362733], [22.5726459, 88.3638953], [24.75608455, 81.38105738502682], [28.58644805, 76.97915298462692], [28.6117432, 77.29827941818031], [25.196682950000003, 76.00096873038872], [26.8381, 80.9346001], [23.3700501, 85.3250387], [28.699009500000003, 77.23146337815574], [28.53364155, 76.68981477716189], [22.692681450000002, 88.66257945063968], [12.9767936, 77.590082], [19.08157715, 72.88662753964906], [13.1394221, 79.9070839], [28.9953758, 77.0233627], [19.08157715, 72.88662753964906], [17.84990665, 75.27632027348457], [28.72330795, 77.26685650778668], [13.1394221, 79.9070839], [28.58644805, 76.97915298462692], [26.1805978, 91.753943], [17.7231276, 83.3012842], [31.6343083, 74.8736788], [11.8763836, 75.3737973], [26.14688605, 91.22273972821812], [28.4031478, 77.3105561], [12.9767936, 77.590082], [19.08157715, 72.88662753964906], [19.08157715, 72.88662753964906], [19.1943294, 72.9701779], [16.21277, 81.03069575082347], [19.1943294, 72.9701779], [28.6545456, 77.0810555082151], [22.7203616, 75.8681996], [12.9767936, 77.590082], [19.08157715, 72.88662753964906], [29.241914350000002, 78.50799012472027], [28.4646148, 77.0299194], [19.1943294, 72.9701779], [16.2915189, 80.4541588], [23.7433532, 92.7382756], [19.1943294, 72.9701779], [22.1776733, 88.53078530426869], [22.2973142, 73.1942567], [30.20927775, 76.33972313649818], [19.1943294, 72.9701779], [25.7967065, 82.4888992436659], [12.9767936, 77.590082], [17.360589, 78.4740613], [19.08157715, 72.88662753964906], [12.9767936, 77.590082], [14.4956602, 78.8349278], [30.3255646, 78.0436813], [16.21277, 81.03069575082347], [25.529855, 78.65278023546288], [22.692681450000002, 88.66257945063968], [27.03016895, 95.49791754505583], [12.9767936, 77.590082], [21.5220416, 70.4582458], [15.3707296, 75.13328673460543], [26.260473150000003, 82.23805321467546], [29.3644727, 112.3905651], [28.3695198, 77.59708927492271], [19.1943294, 72.9701779], [28.78722785, 77.09809032829239], [21.1498134, 79.0820556], [10.038394700000001, 76.50741452482532], [30.3255646, 78.0436813], [13.0836939, 80.270186], [28.3695198, 77.59708927492271], [12.9767936, 77.590082], [8.7012203, 77.5792694], [25.4381302, 81.8338005], [9.8486881, 78.4870461], [19.08157715, 72.88662753964906], [13.18050655, 78.26693288646007], [19.1943294, 72.9701779], [19.08157715, 72.88662753964906], [32.166667, 76.25], [12.9647163, 79.9839686], [19.08157715, 72.88662753964906], [32.166667, 76.25], [22.692681450000002, 88.66257945063968], [28.5706333, 77.3272147], [22.1776733, 88.53078530426869], [10.038394700000001, 76.50741452482532], [28.737914449999998, 77.01006262588218], [12.9767936, 77.590082], [28.6117432, 77.29827941818031], [12.9647163, 79.9839686], [18.7248422, 78.1921832822481], [13.1394221, 79.9070839], [33.9098746, 74.6270356734338], [28.4646148, 77.0299194], [19.54570375, 78.60867589700759], [30.9090157, 75.851601], [17.360589, 78.4740613], [12.82264335, 75.22650362528617], [19.08157715, 72.88662753964906], [21.2094892, 72.8317058], [16.2915189, 80.4541588], [18.5213738, 73.8545071], [12.9647163, 79.9839686], [13.18050655, 78.26693288646007], [24.5, 81.0], [16.21277, 81.03069575082347], [17.360589, 78.4740613], [10.038394700000001, 76.50741452482532], [27.1752554, 78.0098161], [25.6093239, 85.1235252], [11.10684475, 76.10995510466662], [13.0836939, 80.270186], [17.63612885, 74.29827807601782], [26.45856395, 79.85480520543226], [28.485169399999997, 77.19636520348229], [17.360589, 78.4740613], [28.9953758, 77.0233627], [21.2094892, 72.8317058], [19.08157715, 72.88662753964906], [27.1752554, 78.0098161], [23.0215374, 72.5800568], [13.0836939, 80.270186], [12.9767936, 77.590082], [17.172918850000002, 80.40575365751027], [21.2094892, 72.8317058], [25.48911765, 74.33007256947698], [28.21495625, 95.87877403567019], [17.7231276, 83.3012842], [11.64696155, 78.21069575456464], [12.9767936, 77.590082], [28.7678881, 77.46066723508514], [23.0215374, 72.5800568], [12.9767936, 77.590082], [28.58644805, 76.97915298462692], [15.3707296, 75.13328673460543], [17.360589, 78.4740613], [11.9398285, 79.4945645], [26.7577925, 94.2079645], [22.692681450000002, 88.66257945063968], [25.196682950000003, 76.00096873038872], [26.75, 88.25], [12.9767936, 77.590082], [23.0215374, 72.5800568], [11.64696155, 78.21069575456464], [27.4844597, 94.9019447], [8.4882267, 76.947551], [12.9767936, 77.590082], [19.1943294, 72.9701779], [13.0836939, 80.270186], [12.9767936, 77.590082], [22.7919485, 70.6845048], [12.5238888, 76.8961961], [28.6117432, 77.29827941818031], [30.7488437, 76.6428994], [30.17948135, 75.04710979185342], [21.2094892, 72.8317058], [23.0215374, 72.5800568], [28.72330795, 77.26685650778668], [26.8381, 80.9346001], [19.08157715, 72.88662753964906], [32.583333, 75.5], [23.0215374, 72.5800568], [26.9154576, 75.8189817], [19.1943294, 72.9701779], [19.08157715, 72.88662753964906], [28.78722785, 77.09809032829239], [28.4646148, 77.0299194], [13.0836939, 80.270186], [23.4847374, 88.55670673333935], [22.5726459, 88.3638953], [19.3883898, 85.0496786], [11.2450558, 75.7754716], [28.58644805, 76.97915298462692], [25.954423650000003, 85.14486678662564], [8.9674039, 76.85857804538561], [22.5726459, 88.3638953], [28.6545456, 77.0810555082151], [12.9767936, 77.590082], [15.60444125, 74.00172406307475], [26.9154576, 75.8189817], [20.0112475, 73.7902364], [10.038394700000001, 76.50741452482532], [28.485169399999997, 77.19636520348229], [31.7084496, 76.9293782], [21.1498134, 79.0820556], [31.60929415, 75.84597544153354], [28.4646148, 77.0299194], [12.9767936, 77.590082], [22.052110749999997, 88.07124658150045], [14.4493717, 79.9873763], [12.9647163, 79.9839686], [11.9340568, 79.8306447], [28.58644805, 76.97915298462692], [26.14688605, 91.22273972821812], [18.5213738, 73.8545071], [12.9647163, 79.9839686], [22.90994025, 88.01208246766723], [12.9767936, 77.590082], [21.2094892, 72.8317058], [17.172918850000002, 80.40575365751027], [12.9767936, 77.590082], [28.4646148, 77.0299194], [30.6975401, 76.8551066], [25.911744, 93.721703], [18.4711751, 73.90722485], [31.0917102, 76.52897012920695], [17.7231276, 83.3012842], [11.2450558, 75.7754716], [18.5213738, 73.8545071], [12.9767936, 77.590082], [28.3695198, 77.59708927492271], [12.9767936, 77.590082], [22.5726459, 88.3638953], [16.64430285, 81.58852467942901], [19.08157715, 72.88662753964906], [19.3883898, 85.0496786], [18.5213738, 73.8545071], [23.0215374, 72.5800568], [26.96388985, 94.58213344568205], [17.360589, 78.4740613], [17.360589, 78.4740613], [19.1943294, 72.9701779], [19.08157715, 72.88662753964906], [19.1943294, 72.9701779], [13.0836939, 80.270186], [16.2915189, 80.4541588], [19.1943294, 72.9701779], [13.0836939, 80.270186], [13.0836939, 80.270186], [22.5736296, 88.3251045], [30.72984395, 76.78414567016054], [26.082989949999998, 86.03249509324232], [23.0215374, 72.5800568], [26.75, 88.25], [28.21495625, 95.87877403567019], [13.0836939, 80.270186], [22.5736296, 88.3251045], [26.131008, 84.39107448141786], [28.7678881, 77.46066723508514], [26.8381, 80.9346001], [12.9767936, 77.590082], [28.485169399999997, 77.19636520348229], [23.9630448, 86.8027604], [15.60444125, 74.00172406307475], [14.3049174, 76.52972341987515], [26.4410107, 80.26528025980129], [26.8381, 80.9346001], [25.911744, 93.721703], [23.2584857, 77.401989], [32.7185614, 74.8580917], [30.72984395, 76.78414567016054], [21.2094892, 72.8317058], [26.75, 88.25], [19.08157715, 72.88662753964906], [28.485169399999997, 77.19636520348229], [28.737914449999998, 77.01006262588218], [22.7203616, 75.8681996], [28.78722785, 77.09809032829239], [23.2495714, 87.8681751], [28.4031478, 77.3105561], [32.7185614, 74.8580917], [12.9767936, 77.590082], [27.1752554, 78.0098161], [28.9953758, 77.0233627], [11.9340568, 79.8306447], [18.5213738, 73.8545071], [13.2161224, 79.0972819], [28.6545456, 77.0810555082151], [26.8381, 80.9346001], [23.7952809, 86.4309638], [19.08157715, 72.88662753964906], [12.9767936, 77.590082], [23.0215374, 72.5800568], [12.9767936, 77.590082], [19.1943294, 72.9701779], [26.9154576, 75.8189817], [26.75, 88.25], [12.9767936, 77.590082], [15.8309251, 78.0425373], [21.1982964, 81.40079215767969], [11.0018115, 76.9628425], [17.360589, 78.4740613], [15.1433952, 76.9193876], [12.9767936, 77.590082], [28.485169399999997, 77.19636520348229], [31.29223115, 75.56788777097373], [22.2973142, 73.1942567], [27.286366649999998, 93.61877159710389], [25.40237355, 91.83171775361184], [28.7678881, 77.46066723508514], [19.08157715, 72.88662753964906], [12.9767936, 77.590082], [16.99566385, 81.71543778889063], [32.7185614, 74.8580917], [28.3695198, 77.59708927492271], [12.9647163, 79.9839686], [34.163656, 77.5840148], [28.58644805, 76.97915298462692], [20.1651311, 85.6206598], [31.1041526, 77.1709729], [20.4686, 85.8792], [29.9384473, 78.1452985], [18.5213738, 73.8545071], [22.5736296, 88.3251045], [22.5726459, 88.3638953], [12.9767936, 77.590082], [18.5213738, 73.8545071], [20.2719296, 86.15990131192848], [12.9767936, 77.590082], [26.2967719, 73.0351433], [26.4795861, 94.51052754768273], [15.60444125, 74.00172406307475], [28.6117432, 77.29827941818031], [32.7185614, 74.8580917], [24.757326, 93.85847858025147], [19.1943294, 72.9701779], [28.6117432, 77.29827941818031], [15.8309251, 78.0425373], [28.9953758, 77.0233627], [12.9767936, 77.590082], [16.21277, 81.03069575082347], [19.1943294, 72.9701779], [28.58644805, 76.97915298462692], [28.4031478, 77.3105561], [28.485169399999997, 77.19636520348229], [26.2037247, 78.1573628], [26.8381, 80.9346001], [19.1943294, 72.9701779], [13.2161224, 79.0972819], [28.1956468, 76.6165179], [23.0215374, 72.5800568], [16.135719299999998, 73.65220860183584], [18.5213738, 73.8545071], [11.49052815, 77.35052739885393], [22.3053263, 70.8028377], [28.58644805, 76.97915298462692], [20.952407, 72.9323831], [24.757326, 93.85847858025147], [19.08157715, 72.88662753964906], [29.04783135, 79.43261636543795], [21.1498134, 79.0820556], [28.7678881, 77.46066723508514], [19.1943294, 72.9701779], [14.4956602, 78.8349278], [17.360589, 78.4740613], [12.9767936, 77.590082], [16.8579636, 79.21749353315548], [12.9647163, 79.9839686], [23.2495714, 87.8681751], [16.99566385, 81.71543778889063], [22.692681450000002, 88.66257945063968], [24.757326, 93.85847858025147], [12.9767936, 77.590082], [15.3707296, 75.13328673460543], [27.8761073, 78.13581531245276], [12.9767936, 77.590082], [30.3843674, 76.770421], [30.6975401, 76.8551066], [30.72984395, 76.78414567016054], [21.2094892, 72.8317058], [23.0215374, 72.5800568], [23.916667, 91.5], [18.5213738, 73.8545071], [26.14688605, 91.22273972821812], [12.9767936, 77.590082], [26.8381, 80.9346001], [19.08157715, 72.88662753964906], [17.360589, 78.4740613], [22.5726459, 88.3638953], [11.71512915, 76.12711850740615], [25.911744, 93.721703], [12.9647163, 79.9839686], [15.3707296, 75.13328673460543], [13.3419169, 74.7473232], [26.9154576, 75.8189817], [9.6287383, 76.64553257390992], [30.17948135, 75.04710979185342], [28.58644805, 76.97915298462692], [12.5188835, 78.2206536], [32.583333, 75.5], [19.08157715, 72.88662753964906], [21.2094892, 72.8317058], [19.08157715, 72.88662753964906], [17.360589, 78.4740613], [18.5213738, 73.8545071], [16.2915189, 80.4541588], [19.08157715, 72.88662753964906], [19.08157715, 72.88662753964906], [17.360589, 78.4740613], [28.58644805, 76.97915298462692], [17.360589, 78.4740613], [31.29223115, 75.56788777097373], [12.9767936, 77.590082], [12.9021849, 79.06110398623842], [23.2584857, 77.401989], [18.5213738, 73.8545071], [22.2973142, 73.1942567], [19.1943294, 72.9701779], [26.9154576, 75.8189817], [28.4031478, 77.3105561], [25.25, 84.25], [13.2161224, 79.0972819], [28.7678881, 77.46066723508514], [17.9820644, 79.5970954], [17.166667, 77.083333], [19.08157715, 72.88662753964906], [28.9010899, 76.5801935], [22.692681450000002, 88.66257945063968], [11.9269937, 76.9424311], [25.6618755, 94.1019156], [12.9767936, 77.590082], [11.64696155, 78.21069575456464], [26.2967719, 73.0351433], [29.3644727, 112.3905651], [11.0018115, 76.9628425], [19.08157715, 72.88662753964906], [26.7577925, 94.2079645], [17.7231276, 83.3012842], [19.08157715, 72.88662753964906], [12.9767936, 77.590082], [13.3419169, 74.7473232], [19.1943294, 72.9701779], [30.1389108, 77.301064], [23.2495714, 87.8681751], [18.6279288, 73.8009829], [19.08157715, 72.88662753964906], [23.75, 79.583333], [28.6545456, 77.0810555082151], [13.1394221, 79.9070839], [13.2161224, 79.0972819], [28.4031478, 77.3105561], [30.72984395, 76.78414567016054], [8.8052602, 78.1452745], [10.038394700000001, 76.50741452482532], [17.84990665, 75.27632027348457], [22.692681450000002, 88.66257945063968], [28.78722785, 77.09809032829239], [21.915633800000002, 86.39618239522102], [16.21277, 81.03069575082347], [30.6975401, 76.8551066], [15.8572666, 74.5069343], [29.44969785, 77.74293325807088], [13.18050655, 78.26693288646007], [12.9647163, 79.9839686], [23.4847374, 88.55670673333935], [30.9090157, 75.851601], [29.0018557, 77.76796714992041], [19.08157715, 72.88662753964906], [29.6803266, 76.9896254], [20.0112475, 73.7902364], [28.4646148, 77.0299194], [28.485169399999997, 77.19636520348229], [12.9767936, 77.590082], [19.08157715, 72.88662753964906], [18.622438000000002, 84.14437640941347], [28.3695198, 77.59708927492271], [19.08157715, 72.88662753964906], [28.58644805, 76.97915298462692], [19.08157715, 72.88662753964906], [12.9767936, 77.590082], [19.08157715, 72.88662753964906], [28.737914449999998, 77.01006262588218], [19.08157715, 72.88662753964906], [30.6975401, 76.8551066], [19.08157715, 72.88662753964906], [28.6117432, 77.29827941818031], [22.7203616, 75.8681996], [18.5213738, 73.8545071], [22.5736296, 88.3251045], [28.58644805, 76.97915298462692], [15.1433952, 76.9193876], [28.737914449999998, 77.01006262588218], [20.43219565, 73.14098929730321], [28.4031478, 77.3105561], [17.84990665, 75.27632027348457], [26.5108262, 93.9743686], [26.8381, 80.9346001], [13.0836939, 80.270186], [18.5213738, 73.8545071], [28.7678881, 77.46066723508514], [28.58644805, 76.97915298462692], [11.0018115, 76.9628425], [17.360589, 78.4740613], [12.9767936, 77.590082], [10.7056905, 92.48746789633373], [15.41669195, 75.6815801296564], [13.2161224, 79.0972819], [19.08157715, 72.88662753964906], [12.9767936, 77.590082], [29.3644727, 112.3905651], [17.9375095, 78.21174498510584], [28.699009500000003, 77.23146337815574], [19.08157715, 72.88662753964906], [28.737914449999998, 77.01006262588218], [28.737914449999998, 77.01006262588218], [8.079252, 77.5499338], [30.92589585, 77.08200509063624], [19.1943294, 72.9701779], [12.82264335, 75.22650362528617], [17.9375095, 78.21174498510584], [19.08157715, 72.88662753964906], [19.08157715, 72.88662753964906], [19.08157715, 72.88662753964906], [28.4646148, 77.0299194], [30.6975401, 76.8551066], [28.3695198, 77.59708927492271], [22.3053263, 70.8028377], [27.286366649999998, 93.61877159710389], [12.9767936, 77.590082], [28.6545456, 77.0810555082151], [29.9049489, 73.8792934139276], [28.6117432, 77.29827941818031], [21.2094892, 72.8317058], [25.6093239, 85.1235252], [28.3695198, 77.59708927492271], [28.58644805, 76.97915298462692], [22.4732415, 70.0552102], [30.6975401, 76.8551066], [12.9647163, 79.9839686], [12.9647163, 79.9839686], [26.4795861, 94.51052754768273], [10.038394700000001, 76.50741452482532], [10.7056905, 92.48746789633373], [21.1498134, 79.0820556], [26.75, 88.25], [17.360589, 78.4740613], [22.90994025, 88.01208246766723], [12.9767936, 77.590082], [19.08157715, 72.88662753964906], [17.314751700000002, 74.16551699168082], [15.3707296, 75.13328673460543], [12.9368868, 77.51519133129669], [23.808307550000002, 78.75825398721975], [13.318014, 75.7738743], [28.58644805, 76.97915298462692], [12.98815675, 77.62260003796], [19.2720791, 72.8828262], [28.78722785, 77.09809032829239], [27.734382250000003, 81.47653998303304], [22.5726459, 88.3638953], [16.21277, 81.03069575082347], [11.64696155, 78.21069575456464], [28.7678881, 77.46066723508514], [26.9154576, 75.8189817], [28.78722785, 77.09809032829239], [13.0993488, 77.3886322], [19.08157715, 72.88662753964906], [24.75608455, 81.38105738502682], [13.0836939, 80.270186], [12.9767936, 77.590082], [19.08157715, 72.88662753964906], [28.58644805, 76.97915298462692], [24.1745993, 88.2721335], [23.2495714, 87.8681751], [15.60444125, 74.00172406307475], [28.4646148, 77.0299194], [14.4469209, 77.699419], [20.43219565, 73.14098929730321], [31.1041526, 77.1709729], [28.72330795, 77.26685650778668], [26.767770749999997, 92.70140885850532], [17.7231276, 83.3012842], [17.360589, 78.4740613], [19.08157715, 72.88662753964906], [22.052110749999997, 88.07124658150045], [24.578721, 73.6862571], [25.911744, 93.721703], [19.08157715, 72.88662753964906], [17.282607900000002, 73.4569787039826], [30.9090157, 75.851601], [19.08157715, 72.88662753964906], [16.2915189, 80.4541588], [19.08157715, 72.88662753964906], [21.2094892, 72.8317058], [19.1943294, 72.9701779], [19.08157715, 72.88662753964906], [30.72984395, 76.78414567016054], [18.5213738, 73.8545071], [19.1943294, 72.9701779], [23.2584857, 77.401989], [23.7433532, 92.7382756], [16.8502534, 74.5948885], [13.2161224, 79.0972819], [12.9767936, 77.590082], [31.29223115, 75.56788777097373], [13.18050655, 78.26693288646007], [13.2161224, 79.0972819], [19.1943294, 72.9701779], [28.3, 95.15], [11.49052815, 77.35052739885393], [27.8761073, 78.13581531245276], [26.03909045, 83.49858462133619], [19.08157715, 72.88662753964906], [19.08157715, 72.88662753964906], [13.0010872, 77.3361225], [22.5726459, 88.3638953], [25.911744, 93.721703], [22.2973142, 73.1942567], [28.45823445, 79.40474517998476], [28.3695198, 77.59708927492271], [21.2094892, 72.8317058], [28.6117432, 77.29827941818031], [30.3255646, 78.0436813], [22.5726459, 88.3638953], [28.78722785, 77.09809032829239], [26.9154576, 75.8189817], [19.08157715, 72.88662753964906], [28.737914449999998, 77.01006262588218], [12.9767936, 77.590082], [12.9767936, 77.590082], [28.699009500000003, 77.23146337815574], [12.9767936, 77.590082], [18.5213738, 73.8545071], [28.737914449999998, 77.01006262588218], [9.5205576, 78.51846345155016], [23.7433532, 92.7382756], [24.757326, 93.85847858025147], [28.72330795, 77.26685650778668], [28.4646148, 77.0299194], [19.08157715, 72.88662753964906], [26.8381, 80.9346001], [28.4646148, 77.0299194], [28.485169399999997, 77.19636520348229], [12.9767936, 77.590082], [31.9037264, 75.22755867008682], [21.82728385, 72.89284864362733], [26.6677977, 83.364233378331], [10.038394700000001, 76.50741452482532], [26.9154576, 75.8189817], [13.0836939, 80.270186], [26.8381, 80.9346001], [16.2915189, 80.4541588], [19.08157715, 72.88662753964906], [28.699009500000003, 77.23146337815574], [28.4646148, 77.0299194], [10.7056905, 92.48746789633373], [18.5213738, 73.8545071], [19.1943294, 72.9701779], [12.9767936, 77.590082], [28.3695198, 77.59708927492271], [19.08157715, 72.88662753964906], [28.53364155, 76.68981477716189], [19.08157715, 72.88662753964906], [29.9856799, 77.50406459058038], [19.08157715, 72.88662753964906], [21.2380912, 81.6336993], [23.7433532, 92.7382756], [20.15, 78.35], [17.166667, 77.083333], [12.9767936, 77.590082], [18.5213738, 73.8545071], [12.9767936, 77.590082], [28.9010899, 76.5801935], [10.78736915, 76.47421718925105], [16.2915189, 80.4541588], [18.5213738, 73.8545071], [18.5213738, 73.8545071], [25.6618755, 94.1019156], [12.9767936, 77.590082], [28.58644805, 76.97915298462692], [26.8381, 80.9346001], [22.7203616, 75.8681996], [23.7433532, 92.7382756], [20.1651311, 85.6206598], [18.7232023, 82.61005964425227], [8.7012203, 77.5792694], [17.360589, 78.4740613], [16.21277, 81.03069575082347], [19.1943294, 72.9701779], [28.7678881, 77.46066723508514], [25.6093239, 85.1235252], [26.14688605, 91.22273972821812], [22.5726459, 88.3638953], [17.360589, 78.4740613], [28.6545456, 77.0810555082151], [26.423991100000002, 83.7638577758042], [21.1498134, 79.0820556], [30.9090157, 75.851601], [15.57482375, 76.3118493692591], [26.023639000000003, 83.02931045602446], [17.84990665, 75.27632027348457], [19.08157715, 72.88662753964906], [19.08157715, 72.88662753964906], [28.4031478, 77.3105561], [25.911744, 93.721703], [24.578721, 73.6862571], [29.0018557, 77.76796714992041], [17.360589, 78.4740613], [17.360589, 78.4740613], [22.7919485, 70.6845048], [18.5213738, 73.8545071], [28.58644805, 76.97915298462692], [20.0967555, 79.50454752230621], [32.7185614, 74.8580917], [28.7678881, 77.46066723508514], [15.41669195, 75.6815801296564], [26.7577925, 94.2079645], [30.3255646, 78.0436813], [28.6545456, 77.0810555082151], [19.1943294, 72.9701779], [15.60444125, 74.00172406307475], [26.3223696, 89.4592445], [30.3843674, 76.770421], [17.360589, 78.4740613], [17.360589, 78.4740613], [28.7678881, 77.46066723508514], [21.1498134, 79.0820556], [24.85154025, 94.00947957721581], [20.1651311, 85.6206598], [19.08157715, 72.88662753964906], [19.08157715, 72.88662753964906], [19.08157715, 72.88662753964906], [17.1529018, 79.6866589], [28.737914449999998, 77.01006262588218], [12.5238888, 76.8961961], [20.0112475, 73.7902364], [19.877263, 75.3390241], [26.4410107, 80.26528025980129], [22.5726459, 88.3638953], [32.7185614, 74.8580917], [32.7185614, 74.8580917], [18.1139259, 83.3979562], [22.3053263, 70.8028377], [19.08157715, 72.88662753964906], [12.9767936, 77.590082], [8.4882267, 76.947551], [19.1943294, 72.9701779], [12.9767936, 77.590082], [28.737914449999998, 77.01006262588218], [30.72984395, 76.78414567016054], [22.5726459, 88.3638953], [17.360589, 78.4740613], [12.9767936, 77.590082], [28.485169399999997, 77.19636520348229], [30.20927775, 76.33972313649818], [12.9647163, 79.9839686], [19.08157715, 72.88662753964906], [22.94691345, 83.1656942260687], [22.7203616, 75.8681996], [17.63612885, 74.29827807601782], [28.485169399999997, 77.19636520348229], [26.14688605, 91.22273972821812], [11.9269937, 76.9424311], [15.3707296, 75.13328673460543], [20.1651311, 85.6206598], [30.7041168, 76.7176885], [13.1394221, 79.9070839], [12.9767936, 77.590082], [20.8382426, 85.0973949], [12.9767936, 77.590082], [12.9767936, 77.590082], [22.5726459, 88.3638953], [26.1137182, 76.4240637330536], [22.5726459, 88.3638953], [27.17633555, 94.19929317390199], [28.4646148, 77.0299194], [12.9767936, 77.590082], [19.08157715, 72.88662753964906], [23.1885131, 75.7716562], [19.1943294, 72.9701779], [13.0836939, 80.270186], [13.0836939, 80.270186], [12.9647163, 79.9839686], [28.58644805, 76.97915298462692], [28.4670734, 77.5137649], [22.692681450000002, 88.66257945063968], [23.2584857, 77.401989], [26.8381, 80.9346001], [22.2973142, 73.1942567], [11.10684475, 76.10995510466662], [28.6545456, 77.0810555082151], [8.8052602, 78.1452745], [16.64430285, 81.58852467942901], [29.0018557, 77.76796714992041], [20.43219565, 73.14098929730321], [12.9767936, 77.590082], [12.9767936, 77.590082], [24.757326, 93.85847858025147], [22.5726459, 88.3638953], [26.082989949999998, 86.03249509324232], [22.3053263, 70.8028377], [12.9767936, 77.590082], [22.1776733, 88.53078530426869], [13.18050655, 78.26693288646007], [28.6545456, 77.0810555082151], [13.0836939, 80.270186], [22.3053263, 70.8028377], [19.08157715, 72.88662753964906], [12.9767936, 77.590082], [20.2719296, 86.15990131192848], [26.122266000000003, 75.82386305157223], [28.879655300000003, 78.80953353954959], [13.0836939, 80.270186], [13.0836939, 80.270186], [19.1943294, 72.9701779], [28.4646148, 77.0299194], [28.4646148, 77.0299194], [22.2973142, 73.1942567], [26.942140600000002, 81.38560869842297], [10.5270099, 76.214621], [26.2967719, 73.0351433], [27.286366649999998, 93.61877159710389], [19.08157715, 72.88662753964906], [21.2380912, 81.6336993], [27.1752554, 78.0098161], [32.583333, 75.5], [22.5726459, 88.3638953], [24.5, 81.0], [22.3053263, 70.8028377], [12.9767936, 77.590082], [17.172918850000002, 80.40575365751027], [19.08157715, 72.88662753964906], [28.4646148, 77.0299194], [20.4686, 85.8792], [10.038394700000001, 76.50741452482532], [19.08157715, 72.88662753964906], [28.699009500000003, 77.23146337815574], [16.2915189, 80.4541588], [31.1041526, 77.1709729], [25.40237355, 91.83171775361184], [28.3695198, 77.59708927492271], [12.9647163, 79.9839686], [19.759070350000002, 80.16228072580182], [23.50222005, 74.9551534052134], [8.079252, 77.5499338], [24.757326, 93.85847858025147], [30.663404149999998, 76.38030001704635], [34.163656, 77.5840148], [8.8052602, 78.1452745], [15.8309251, 78.0425373], [14.4956602, 78.8349278], [18.5213738, 73.8545071], [23.916667, 91.5], [18.5213738, 73.8545071], [21.2094892, 72.8317058], [21.2094892, 72.8317058], [21.1498134, 79.0820556], [28.6545456, 77.0810555082151], [22.5726459, 88.3638953], [10.78736915, 76.47421718925105], [25.286135350000002, 87.13042293057262], [17.360589, 78.4740613], [8.4882267, 76.947551], [19.08157715, 72.88662753964906], [28.7678881, 77.46066723508514], [12.9767936, 77.590082], [25.6093239, 85.1235252], [19.1943294, 72.9701779], [12.98815675, 77.62260003796], [30.3255646, 78.0436813], [17.360589, 78.4740613], [19.08157715, 72.88662753964906], [29.0018557, 77.76796714992041], [26.75, 88.25], [23.4847374, 88.55670673333935], [17.7231276, 83.3012842], [12.9767936, 77.590082], [17.360589, 78.4740613], [12.9767936, 77.590082], [19.1943294, 72.9701779], [19.1943294, 72.9701779], [23.3700501, 85.3250387], [31.29223115, 75.56788777097373], [26.4410107, 80.26528025980129], [23.75, 79.583333], [26.8381, 80.9346001], [27.4844597, 94.9019447], [31.29223115, 75.56788777097373], [28.72330795, 77.26685650778668], [8.4882267, 76.947551], [12.9767936, 77.590082], [12.9767936, 77.590082], [19.1943294, 72.9701779], [28.4031478, 77.3105561], [23.132376999999998, 87.20819250835955], [20.84288265, 75.52612463784979], [10.038394700000001, 76.50741452482532], [17.360589, 78.4740613], [23.5590941, 72.7449399], [13.1394221, 79.9070839], [22.5736296, 88.3251045], [12.9767936, 77.590082], [28.485169399999997, 77.19636520348229], [19.08157715, 72.88662753964906], [19.08157715, 72.88662753964906], [11.71512915, 76.12711850740615], [18.5213738, 73.8545071], [15.60444125, 74.00172406307475], [21.1498134, 79.0820556], [18.5213738, 73.8545071], [29.0018557, 77.76796714992041], [28.6117432, 77.29827941818031], [12.9767936, 77.590082], [28.3695198, 77.59708927492271], [18.5213738, 73.8545071], [26.8381, 80.9346001], [20.82562315, 78.61314549522919], [22.692681450000002, 88.66257945063968], [30.663404149999998, 76.38030001704635], [22.5726459, 88.3638953], [22.5726459, 88.3638953], [30.663404149999998, 76.38030001704635], [13.0836939, 80.270186], [13.0993488, 77.3886322], [28.485169399999997, 77.19636520348229], [19.0505098, 73.06543345], [12.9767936, 77.590082], [28.737914449999998, 77.01006262588218], [12.9767936, 77.590082], [32.7185614, 74.8580917], [28.6545456, 77.0810555082151], [28.737914449999998, 77.01006262588218], [19.29019805, 76.60264434278307], [13.0010872, 77.3361225], [19.1943294, 72.9701779], [26.8381, 80.9346001], [19.08157715, 72.88662753964906], [19.08157715, 72.88662753964906], [22.3053263, 70.8028377], [15.219624, 74.1159084575026], [28.7678881, 77.46066723508514], [28.7678881, 77.46066723508514], [28.4031478, 77.3105561], [28.737914449999998, 77.01006262588218], [17.166667, 77.083333], [19.08157715, 72.88662753964906], [22.7203616, 75.8681996], [19.08157715, 72.88662753964906], [31.38564755, 75.30533042971072], [13.0836939, 80.270186], [15.60444125, 74.00172406307475], [14.7874825, 75.3996731], [28.485169399999997, 77.19636520348229], [22.5726459, 88.3638953], [12.9021849, 79.06110398623842], [30.6975401, 76.8551066], [12.9767936, 77.590082], [26.9154576, 75.8189817], [28.6117432, 77.29827941818031], [23.0215374, 72.5800568], [19.08157715, 72.88662753964906], [26.8381, 80.9346001], [28.4646148, 77.0299194], [19.0505098, 73.06543345], [12.2343228, 79.0761989], [26.9154576, 75.8189817], [31.6343083, 74.8736788], [28.72330795, 77.26685650778668], [19.08157715, 72.88662753964906], [25.48911765, 74.33007256947698], [19.08157715, 72.88662753964906], [28.3695198, 77.59708927492271], [12.9647163, 79.9839686], [14.4469209, 77.699419], [28.58644805, 76.97915298462692], [19.08157715, 72.88662753964906], [12.9767936, 77.590082], [19.1943294, 72.9701779], [28.6117432, 77.29827941818031], [19.1943294, 72.9701779], [12.9767936, 77.590082], [26.9154576, 75.8189817], [18.5213738, 73.8545071], [23.2495714, 87.8681751], [19.08157715, 72.88662753964906], [19.1943294, 72.9701779], [21.1305215, 74.49006143365727], [19.08157715, 72.88662753964906], [28.3695198, 77.59708927492271], [30.20927775, 76.33972313649818], [22.5, 83.5], [19.08157715, 72.88662753964906], [16.21277, 81.03069575082347], [27.4879722, 95.3601855], [16.99566385, 81.71543778889063], [12.9767936, 77.590082], [24.5, 81.0], [26.75, 92.5], [12.9767936, 77.590082], [23.583333, 70.0], [20.1651311, 85.6206598], [26.75, 88.25], [20.0112475, 73.7902364], [31.29223115, 75.56788777097373], [23.0215374, 72.5800568], [21.4, 83.883333], [19.1943294, 72.9701779], [18.5213738, 73.8545071], [24.7171578, 74.47181293724019], [28.6545456, 77.0810555082151], [12.82264335, 75.22650362528617], [22.692681450000002, 88.66257945063968], [10.038394700000001, 76.50741452482532], [17.360589, 78.4740613], [12.9767936, 77.590082], [22.1181799, 84.0361994], [19.08157715, 72.88662753964906], [19.08157715, 72.88662753964906], [22.1776733, 88.53078530426869], [19.08157715, 72.88662753964906], [17.360589, 78.4740613], [19.08157715, 72.88662753964906], [30.6975401, 76.8551066], [30.6975401, 76.8551066], [22.5726459, 88.3638953], [30.3255646, 78.0436813], [25.6093239, 85.1235252], [10.038394700000001, 76.50741452482532], [22.7203616, 75.8681996], [28.4031478, 77.3105561], [25.48911765, 74.33007256947698], [28.4646148, 77.0299194], [21.7718836, 72.1416449], [29.70265095, 79.43263182057746], [21.2094892, 72.8317058], [28.6545456, 77.0810555082151], [28.737914449999998, 77.01006262588218], [23.0215374, 72.5800568], [11.0018115, 76.9628425], [22.90994025, 88.01208246766723], [11.0018115, 76.9628425], [25.911744, 93.721703], [26.166667, 77.5], [19.08157715, 72.88662753964906], [18.5213738, 73.8545071], [17.360589, 78.4740613], [19.1943294, 72.9701779], [28.6545456, 77.0810555082151], [12.3051828, 76.6553609], [21.1498134, 79.0820556], [13.0836939, 80.270186], [28.4646148, 77.0299194], [28.4646148, 77.0299194], [28.485169399999997, 77.19636520348229], [26.14688605, 91.22273972821812], [13.0010872, 77.3361225], [13.0010872, 77.3361225], [11.0018115, 76.9628425], [22.1181799, 84.0361994], [12.9767936, 77.590082], [26.8381, 80.9346001], [28.6545456, 77.0810555082151], [28.737914449999998, 77.01006262588218], [21.1982964, 81.40079215767969], [28.737914449999998, 77.01006262588218], [19.08157715, 72.88662753964906], [10.804973, 78.6870296], [23.50222005, 74.9551534052134], [17.9820644, 79.5970954], [12.9767936, 77.590082], [11.64696155, 78.21069575456464], [30.72984395, 76.78414567016054], [12.5188835, 78.2206536], [19.08157715, 72.88662753964906], [26.62628045, 88.73344851670664], [25.75, 78.5], [15.8309251, 78.0425373], [19.08157715, 72.88662753964906], [30.8753832, 74.65254375024789], [13.2161224, 79.0972819], [30.9090157, 75.851601], [21.1498134, 79.0820556], [22.692681450000002, 88.66257945063968], [17.360589, 78.4740613], [30.1389108, 77.301064], [12.9767936, 77.590082], [12.9767936, 77.590082], [28.737914449999998, 77.01006262588218], [11.52020705, 79.33963564750636], [9.8486881, 78.4870461], [10.5270099, 76.214621], [24.75608455, 81.38105738502682], [12.9767936, 77.590082], [19.08157715, 72.88662753964906], [29.9384473, 78.1452985], [26.75, 88.25], [19.1943294, 72.9701779], [22.052110749999997, 88.07124658150045], [27.3163644, 88.5975829], [28.78722785, 77.09809032829239], [22.5586555, 72.9627227], [28.3695198, 77.59708927492271], [30.9090157, 75.851601], [10.804973, 78.6870296], [12.9767936, 77.590082], [16.99566385, 81.71543778889063], [19.08157715, 72.88662753964906], [16.7028412, 74.2405329], [32.7185614, 74.8580917], [28.737914449999998, 77.01006262588218], [28.3695198, 77.59708927492271], [19.1943294, 72.9701779], [28.6545456, 77.0810555082151], [11.0018115, 76.9628425], [26.2967719, 73.0351433], [28.58644805, 76.97915298462692], [16.2915189, 80.4541588], [17.360589, 78.4740613], [13.0836939, 80.270186], [12.69925235, 77.24440803076789], [29.9049489, 73.8792934139276], [12.9767936, 77.590082], [28.6545456, 77.0810555082151], [19.08157715, 72.88662753964906], [28.7678881, 77.46066723508514], [28.9010899, 76.5801935], [23.7433532, 92.7382756], [12.9767936, 77.590082], [28.3695198, 77.59708927492271], [34.163656, 77.5840148], [24.757326, 93.85847858025147], [25.40237355, 91.83171775361184], [23.2584857, 77.401989]],\n",
              "                {&quot;blur&quot;: 15, &quot;maxZoom&quot;: 18, &quot;minOpacity&quot;: 0.5, &quot;radius&quot;: 25}\n",
              "            );\n",
              "        \n",
              "    \n",
              "            heat_map_4fcde590ac518c747f3f05eb87aeb64a.addTo(map_3142ea63c552a29dc7a60acb85a40802);\n",
              "        \n",
              "    \n",
              "            tile_layer_110323cb8123cf2b50fcf78529b9fae6.addTo(map_3142ea63c552a29dc7a60acb85a40802);\n",
              "        \n",
              "    \n",
              "            heat_map_4fcde590ac518c747f3f05eb87aeb64a.addTo(map_3142ea63c552a29dc7a60acb85a40802);\n",
              "        \n",
              "&lt;/script&gt;\n",
              "&lt;/html&gt;\" style=\"position:absolute;width:100%;height:100%;left:0;top:0;border:none !important;\" allowfullscreen webkitallowfullscreen mozallowfullscreen></iframe></div></div>"
            ]
          },
          "metadata": {},
          "execution_count": 63
        }
      ]
    },
    {
      "cell_type": "code",
      "source": [
        "import pandas as pd\n",
        "\n",
        "# Load your dataset\n",
        "data = pd.read_csv('/content/drive/MyDrive/E commerce/OrdersCleaned.csv')\n",
        "\n",
        "# Inspect the first few rows\n",
        "print(data.head())\n"
      ],
      "metadata": {
        "colab": {
          "base_uri": "https://localhost:8080/"
        },
        "id": "RxQMwkREwI2N",
        "outputId": "9ecfcd43-1742-4a60-b082-eb7c53279f3e"
      },
      "execution_count": null,
      "outputs": [
        {
          "output_type": "stream",
          "name": "stdout",
          "text": [
            "   Unnamed: 0     ID Name           City        State  \\\n",
            "0           0  30145  Man       Nayagarh       Odisha   \n",
            "1           1  30144  Dik          Thane  Maharashtra   \n",
            "2           2  30143  Shi      Bangalore    Karnataka   \n",
            "3           3  30142  Pre         Mumbai  Maharashtra   \n",
            "4           4  30138  Dr.  Pauri Garhwal  Uttarakhand   \n",
            "\n",
            "                                             Address  isCOD  \\\n",
            "0  Jagadish Prasad, Golapokhari-Bhapur Road, Fate...   True   \n",
            "1  Shanti Garden Sector 4 , flat 401, building 2,...   True   \n",
            "2    #280 2nd main 2nd cross, vinobha nagar kg halli   True   \n",
            "3  1404/ Accord Nidhi, above Bikaji, Link Road, M...   True   \n",
            "4  10 am to 3 pm, Please call Before Coming, Room...   True   \n",
            "\n",
            "           Date Placed     Status        IVR  Remarks  Total  \\\n",
            "0  2021-01-31 17:45:59  Delivered  Confirmed   pickrr    999   \n",
            "1  2021-01-31 17:33:57  Delivered  Confirmed      NaN    599   \n",
            "2  2021-01-31 17:33:02  Delivered  Confirmed  On call    599   \n",
            "3  2021-01-31 17:31:57  Delivered  Confirmed   Script   3596   \n",
            "4  2021-01-31 17:06:55  Delivered  Confirmed   Script    999   \n",
            "\n",
            "        Date Delivered Date Returned PID Category  Quantity  \\\n",
            "0  2021-02-14 04:37:00           NaN  32       WL         2   \n",
            "1  2021-02-02 23:19:18           NaN  23        D         2   \n",
            "2  2021-02-08 00:08:25           NaN  23        D         2   \n",
            "3  2021-02-09 03:17:08           NaN  34       WL         2   \n",
            "4  2021-02-04 01:59:40           NaN  31       WL         2   \n",
            "\n",
            "                    Product Name  \n",
            "0   One Week Weight-Loss (Peach)  \n",
            "1           One Week Detox Trial  \n",
            "2           One Week Detox Trial  \n",
            "3  One Month Weight-Loss (Peach)  \n",
            "4    One Week Weight-Loss (Mint)  \n"
          ]
        }
      ]
    },
    {
      "cell_type": "code",
      "source": [
        "# Convert 'Date Placed' to datetime\n",
        "data['Date Placed'] = pd.to_datetime(data['Date Placed'])\n",
        "\n",
        "# Check for any missing values\n",
        "print(data.isnull().sum())\n"
      ],
      "metadata": {
        "colab": {
          "base_uri": "https://localhost:8080/"
        },
        "id": "kCYZgArEwTJN",
        "outputId": "2ac92630-78e4-4beb-b77e-1d0531282b08"
      },
      "execution_count": null,
      "outputs": [
        {
          "output_type": "stream",
          "name": "stdout",
          "text": [
            "Unnamed: 0           0\n",
            "ID                   0\n",
            "Name                 0\n",
            "City                 4\n",
            "State                4\n",
            "Address              0\n",
            "isCOD                0\n",
            "Date Placed          0\n",
            "Status               0\n",
            "IVR                  0\n",
            "Remarks            671\n",
            "Total                0\n",
            "Date Delivered     189\n",
            "Date Returned     1403\n",
            "PID                 35\n",
            "Category             3\n",
            "Quantity             0\n",
            "Product Name         0\n",
            "dtype: int64\n"
          ]
        }
      ]
    },
    {
      "cell_type": "code",
      "source": [
        "data['Is Retained'] = data['Status'].apply(lambda x: 1 if x == 'Delivered' else 0)\n"
      ],
      "metadata": {
        "id": "y6U_kP4fwPT2"
      },
      "execution_count": null,
      "outputs": []
    },
    {
      "cell_type": "code",
      "source": [],
      "metadata": {
        "id": "rPwrFNy8wrjj"
      },
      "execution_count": null,
      "outputs": []
    },
    {
      "cell_type": "code",
      "source": [],
      "metadata": {
        "id": "q_xbnHhCwrm8"
      },
      "execution_count": null,
      "outputs": []
    },
    {
      "cell_type": "code",
      "source": [
        "pip install dash dash-core-components dash-html-components pandas plotly\n"
      ],
      "metadata": {
        "colab": {
          "base_uri": "https://localhost:8080/"
        },
        "id": "LdLexcAcwr5g",
        "outputId": "d34107ac-3430-4b26-b466-bae235aa319f"
      },
      "execution_count": null,
      "outputs": [
        {
          "output_type": "stream",
          "name": "stdout",
          "text": [
            "Collecting dash\n",
            "  Downloading dash-2.17.1-py3-none-any.whl.metadata (10 kB)\n",
            "Collecting dash-core-components\n",
            "  Downloading dash_core_components-2.0.0-py3-none-any.whl.metadata (2.9 kB)\n",
            "Collecting dash-html-components\n",
            "  Downloading dash_html_components-2.0.0-py3-none-any.whl.metadata (3.8 kB)\n",
            "Requirement already satisfied: pandas in /usr/local/lib/python3.10/dist-packages (2.1.4)\n",
            "Requirement already satisfied: plotly in /usr/local/lib/python3.10/dist-packages (5.15.0)\n",
            "Requirement already satisfied: Flask<3.1,>=1.0.4 in /usr/local/lib/python3.10/dist-packages (from dash) (2.2.5)\n",
            "Requirement already satisfied: Werkzeug<3.1 in /usr/local/lib/python3.10/dist-packages (from dash) (3.0.4)\n",
            "Collecting dash-table==5.0.0 (from dash)\n",
            "  Downloading dash_table-5.0.0-py3-none-any.whl.metadata (2.4 kB)\n",
            "Requirement already satisfied: importlib-metadata in /usr/local/lib/python3.10/dist-packages (from dash) (8.4.0)\n",
            "Requirement already satisfied: typing-extensions>=4.1.1 in /usr/local/lib/python3.10/dist-packages (from dash) (4.12.2)\n",
            "Requirement already satisfied: requests in /usr/local/lib/python3.10/dist-packages (from dash) (2.32.3)\n",
            "Collecting retrying (from dash)\n",
            "  Downloading retrying-1.3.4-py3-none-any.whl.metadata (6.9 kB)\n",
            "Requirement already satisfied: nest-asyncio in /usr/local/lib/python3.10/dist-packages (from dash) (1.6.0)\n",
            "Requirement already satisfied: setuptools in /usr/local/lib/python3.10/dist-packages (from dash) (71.0.4)\n",
            "Requirement already satisfied: numpy<2,>=1.22.4 in /usr/local/lib/python3.10/dist-packages (from pandas) (1.26.4)\n",
            "Requirement already satisfied: python-dateutil>=2.8.2 in /usr/local/lib/python3.10/dist-packages (from pandas) (2.8.2)\n",
            "Requirement already satisfied: pytz>=2020.1 in /usr/local/lib/python3.10/dist-packages (from pandas) (2024.1)\n",
            "Requirement already satisfied: tzdata>=2022.1 in /usr/local/lib/python3.10/dist-packages (from pandas) (2024.1)\n",
            "Requirement already satisfied: tenacity>=6.2.0 in /usr/local/lib/python3.10/dist-packages (from plotly) (9.0.0)\n",
            "Requirement already satisfied: packaging in /usr/local/lib/python3.10/dist-packages (from plotly) (24.1)\n",
            "Requirement already satisfied: Jinja2>=3.0 in /usr/local/lib/python3.10/dist-packages (from Flask<3.1,>=1.0.4->dash) (3.1.4)\n",
            "Requirement already satisfied: itsdangerous>=2.0 in /usr/local/lib/python3.10/dist-packages (from Flask<3.1,>=1.0.4->dash) (2.2.0)\n",
            "Requirement already satisfied: click>=8.0 in /usr/local/lib/python3.10/dist-packages (from Flask<3.1,>=1.0.4->dash) (8.1.7)\n",
            "Requirement already satisfied: six>=1.5 in /usr/local/lib/python3.10/dist-packages (from python-dateutil>=2.8.2->pandas) (1.16.0)\n",
            "Requirement already satisfied: MarkupSafe>=2.1.1 in /usr/local/lib/python3.10/dist-packages (from Werkzeug<3.1->dash) (2.1.5)\n",
            "Requirement already satisfied: zipp>=0.5 in /usr/local/lib/python3.10/dist-packages (from importlib-metadata->dash) (3.20.0)\n",
            "Requirement already satisfied: charset-normalizer<4,>=2 in /usr/local/lib/python3.10/dist-packages (from requests->dash) (3.3.2)\n",
            "Requirement already satisfied: idna<4,>=2.5 in /usr/local/lib/python3.10/dist-packages (from requests->dash) (3.7)\n",
            "Requirement already satisfied: urllib3<3,>=1.21.1 in /usr/local/lib/python3.10/dist-packages (from requests->dash) (2.0.7)\n",
            "Requirement already satisfied: certifi>=2017.4.17 in /usr/local/lib/python3.10/dist-packages (from requests->dash) (2024.7.4)\n",
            "Downloading dash-2.17.1-py3-none-any.whl (7.5 MB)\n",
            "\u001b[2K   \u001b[90m━━━━━━━━━━━━━━━━━━━━━━━━━━━━━━━━━━━━━━━━\u001b[0m \u001b[32m7.5/7.5 MB\u001b[0m \u001b[31m19.4 MB/s\u001b[0m eta \u001b[36m0:00:00\u001b[0m\n",
            "\u001b[?25hDownloading dash_core_components-2.0.0-py3-none-any.whl (3.8 kB)\n",
            "Downloading dash_html_components-2.0.0-py3-none-any.whl (4.1 kB)\n",
            "Downloading dash_table-5.0.0-py3-none-any.whl (3.9 kB)\n",
            "Downloading retrying-1.3.4-py3-none-any.whl (11 kB)\n",
            "Installing collected packages: dash-table, dash-html-components, dash-core-components, retrying, dash\n",
            "Successfully installed dash-2.17.1 dash-core-components-2.0.0 dash-html-components-2.0.0 dash-table-5.0.0 retrying-1.3.4\n"
          ]
        }
      ]
    },
    {
      "cell_type": "code",
      "source": [
        "# Save Dash app code to a file\n",
        "app_code = \"\"\"\n",
        "import dash\n",
        "import dash_core_components as dcc\n",
        "import dash_html_components as html\n",
        "from dash.dependencies import Input, Output\n",
        "import plotly.express as px\n",
        "import pandas as pd\n",
        "import numpy as np\n",
        "import seaborn as sns\n",
        "import matplotlib.pyplot as plt\n",
        "import io\n",
        "import base64\n",
        "\n",
        "# Load your data\n",
        "df = pd.read_csv('your_data.csv')\n",
        "\n",
        "# Example of creating a plotly graph\n",
        "def create_heatmap():\n",
        "    pivot_table = df.pivot_table(index='City', columns='Status', values='ID', aggfunc='count', fill_value=0)\n",
        "    fig = px.imshow(pivot_table, labels=dict(x=\"Status\", y=\"City\", color=\"Count\"))\n",
        "    return fig\n",
        "\n",
        "def create_countplot():\n",
        "    fig = px.histogram(df, x='Status', title='Order Status Distribution')\n",
        "    return fig\n",
        "\n",
        "def create_geographical_distribution():\n",
        "    # Replace this with your geographical plot logic\n",
        "    fig = px.scatter_geo(df, locations=\"City\", title=\"Customer Distribution by City\")\n",
        "    return fig\n",
        "\n",
        "# Initialize the Dash app\n",
        "app = dash.Dash(__name__)\n",
        "\n",
        "# Layout of the dashboard\n",
        "app.layout = html.Div([\n",
        "    html.H1(\"Customer Analysis Dashboard\"),\n",
        "\n",
        "    dcc.Graph(\n",
        "        id='heatmap',\n",
        "        figure=create_heatmap()\n",
        "    ),\n",
        "\n",
        "    dcc.Graph(\n",
        "        id='countplot',\n",
        "        figure=create_countplot()\n",
        "    ),\n",
        "\n",
        "    dcc.Graph(\n",
        "        id='geo-distribution',\n",
        "        figure=create_geographical_distribution()\n",
        "    )\n",
        "])\n",
        "\n",
        "# Run the app\n",
        "if __name__ == '__main__':\n",
        "    app.run_server(debug=True)\n",
        "\"\"\"\n",
        "\n",
        "# Save the code to a file named 'app.py'\n",
        "with open('/content/app.py', 'w') as file:\n",
        "    file.write(app_code)\n",
        "\n",
        "print(\"Dash app code has been saved to 'app.py'\")\n"
      ],
      "metadata": {
        "colab": {
          "base_uri": "https://localhost:8080/"
        },
        "id": "jUNrMcA50_MA",
        "outputId": "1b71f6fa-c067-4e9e-e0ab-7b0f4f05bbed"
      },
      "execution_count": null,
      "outputs": [
        {
          "output_type": "stream",
          "name": "stdout",
          "text": [
            "Dash app code has been saved to 'app.py'\n"
          ]
        }
      ]
    },
    {
      "cell_type": "code",
      "source": [
        "from google.colab import files\n",
        "files.download('/content/app.py')\n"
      ],
      "metadata": {
        "colab": {
          "base_uri": "https://localhost:8080/",
          "height": 17
        },
        "id": "IrhO7iUo1mwE",
        "outputId": "86d7c433-463f-4a94-c0eb-82493ab8d6e4"
      },
      "execution_count": null,
      "outputs": [
        {
          "output_type": "display_data",
          "data": {
            "text/plain": [
              "<IPython.core.display.Javascript object>"
            ],
            "application/javascript": [
              "\n",
              "    async function download(id, filename, size) {\n",
              "      if (!google.colab.kernel.accessAllowed) {\n",
              "        return;\n",
              "      }\n",
              "      const div = document.createElement('div');\n",
              "      const label = document.createElement('label');\n",
              "      label.textContent = `Downloading \"${filename}\": `;\n",
              "      div.appendChild(label);\n",
              "      const progress = document.createElement('progress');\n",
              "      progress.max = size;\n",
              "      div.appendChild(progress);\n",
              "      document.body.appendChild(div);\n",
              "\n",
              "      const buffers = [];\n",
              "      let downloaded = 0;\n",
              "\n",
              "      const channel = await google.colab.kernel.comms.open(id);\n",
              "      // Send a message to notify the kernel that we're ready.\n",
              "      channel.send({})\n",
              "\n",
              "      for await (const message of channel.messages) {\n",
              "        // Send a message to notify the kernel that we're ready.\n",
              "        channel.send({})\n",
              "        if (message.buffers) {\n",
              "          for (const buffer of message.buffers) {\n",
              "            buffers.push(buffer);\n",
              "            downloaded += buffer.byteLength;\n",
              "            progress.value = downloaded;\n",
              "          }\n",
              "        }\n",
              "      }\n",
              "      const blob = new Blob(buffers, {type: 'application/binary'});\n",
              "      const a = document.createElement('a');\n",
              "      a.href = window.URL.createObjectURL(blob);\n",
              "      a.download = filename;\n",
              "      div.appendChild(a);\n",
              "      a.click();\n",
              "      div.remove();\n",
              "    }\n",
              "  "
            ]
          },
          "metadata": {}
        },
        {
          "output_type": "display_data",
          "data": {
            "text/plain": [
              "<IPython.core.display.Javascript object>"
            ],
            "application/javascript": [
              "download(\"download_9d560170-b13b-46d1-8989-148163b131a7\", \"app.py\", 1398)"
            ]
          },
          "metadata": {}
        }
      ]
    },
    {
      "cell_type": "code",
      "source": [
        "pip install dash\n"
      ],
      "metadata": {
        "colab": {
          "base_uri": "https://localhost:8080/"
        },
        "id": "0LdWKKMP1qm0",
        "outputId": "d489b311-c88c-496d-89dc-82b14b650744"
      },
      "execution_count": null,
      "outputs": [
        {
          "output_type": "stream",
          "name": "stdout",
          "text": [
            "Requirement already satisfied: dash in /usr/local/lib/python3.10/dist-packages (2.17.1)\n",
            "Requirement already satisfied: Flask<3.1,>=1.0.4 in /usr/local/lib/python3.10/dist-packages (from dash) (2.2.5)\n",
            "Requirement already satisfied: Werkzeug<3.1 in /usr/local/lib/python3.10/dist-packages (from dash) (3.0.4)\n",
            "Requirement already satisfied: plotly>=5.0.0 in /usr/local/lib/python3.10/dist-packages (from dash) (5.15.0)\n",
            "Requirement already satisfied: dash-html-components==2.0.0 in /usr/local/lib/python3.10/dist-packages (from dash) (2.0.0)\n",
            "Requirement already satisfied: dash-core-components==2.0.0 in /usr/local/lib/python3.10/dist-packages (from dash) (2.0.0)\n",
            "Requirement already satisfied: dash-table==5.0.0 in /usr/local/lib/python3.10/dist-packages (from dash) (5.0.0)\n",
            "Requirement already satisfied: importlib-metadata in /usr/local/lib/python3.10/dist-packages (from dash) (8.4.0)\n",
            "Requirement already satisfied: typing-extensions>=4.1.1 in /usr/local/lib/python3.10/dist-packages (from dash) (4.12.2)\n",
            "Requirement already satisfied: requests in /usr/local/lib/python3.10/dist-packages (from dash) (2.32.3)\n",
            "Requirement already satisfied: retrying in /usr/local/lib/python3.10/dist-packages (from dash) (1.3.4)\n",
            "Requirement already satisfied: nest-asyncio in /usr/local/lib/python3.10/dist-packages (from dash) (1.6.0)\n",
            "Requirement already satisfied: setuptools in /usr/local/lib/python3.10/dist-packages (from dash) (71.0.4)\n",
            "Requirement already satisfied: Jinja2>=3.0 in /usr/local/lib/python3.10/dist-packages (from Flask<3.1,>=1.0.4->dash) (3.1.4)\n",
            "Requirement already satisfied: itsdangerous>=2.0 in /usr/local/lib/python3.10/dist-packages (from Flask<3.1,>=1.0.4->dash) (2.2.0)\n",
            "Requirement already satisfied: click>=8.0 in /usr/local/lib/python3.10/dist-packages (from Flask<3.1,>=1.0.4->dash) (8.1.7)\n",
            "Requirement already satisfied: tenacity>=6.2.0 in /usr/local/lib/python3.10/dist-packages (from plotly>=5.0.0->dash) (9.0.0)\n",
            "Requirement already satisfied: packaging in /usr/local/lib/python3.10/dist-packages (from plotly>=5.0.0->dash) (24.1)\n",
            "Requirement already satisfied: MarkupSafe>=2.1.1 in /usr/local/lib/python3.10/dist-packages (from Werkzeug<3.1->dash) (2.1.5)\n",
            "Requirement already satisfied: zipp>=0.5 in /usr/local/lib/python3.10/dist-packages (from importlib-metadata->dash) (3.20.0)\n",
            "Requirement already satisfied: charset-normalizer<4,>=2 in /usr/local/lib/python3.10/dist-packages (from requests->dash) (3.3.2)\n",
            "Requirement already satisfied: idna<4,>=2.5 in /usr/local/lib/python3.10/dist-packages (from requests->dash) (3.7)\n",
            "Requirement already satisfied: urllib3<3,>=1.21.1 in /usr/local/lib/python3.10/dist-packages (from requests->dash) (2.0.7)\n",
            "Requirement already satisfied: certifi>=2017.4.17 in /usr/local/lib/python3.10/dist-packages (from requests->dash) (2024.7.4)\n",
            "Requirement already satisfied: six>=1.7.0 in /usr/local/lib/python3.10/dist-packages (from retrying->dash) (1.16.0)\n"
          ]
        }
      ]
    },
    {
      "cell_type": "code",
      "source": [
        "import dash\n",
        "from dash import dcc, html\n",
        "import plotly.express as px\n",
        "import pandas as pd\n",
        "from google.colab import output\n",
        "\n",
        "# Sample data\n",
        "data = {\n",
        "    'City': ['Nayagarh', 'Thane', 'Bangalore', 'Mumbai', 'Pauri Garhwal', 'Indore', 'Nilgiris', 'Mumbai', 'Dimapur', 'Thane'],\n",
        "    'Status': ['Delivered', 'Delivered', 'Delivered', 'Delivered', 'Delivered', 'Delivered', 'Delivered', 'Delivered', 'Returned', 'Returned'],\n",
        "    'Total': [999, 599, 599, 3596, 999, 3719, 3417, 3596, 2156, 999]\n",
        "}\n",
        "df = pd.DataFrame(data)\n",
        "\n",
        "# Initialize the Dash app\n",
        "app = dash.Dash(__name__)\n",
        "\n",
        "# Define the layout of the app\n",
        "app.layout = html.Div([\n",
        "    html.H1(\"Customer Analysis Dashboard\"),\n",
        "\n",
        "    dcc.Graph(\n",
        "        id='heatmap',\n",
        "        figure={\n",
        "            'data': [\n",
        "                {\n",
        "                    'x': df['City'],\n",
        "                    'y': df['Status'],\n",
        "                    'z': df['Total'],\n",
        "                    'type': 'heatmap',\n",
        "                    'colorscale': 'Viridis'\n",
        "                }\n",
        "            ],\n",
        "            'layout': {\n",
        "                'title': 'Heatmap of Customer Orders by City and Status'\n",
        "            }\n",
        "        }\n",
        "    ),\n",
        "\n",
        "    dcc.Graph(\n",
        "        id='countplot',\n",
        "        figure=px.histogram(df, x='Status', title='Order Status Distribution')\n",
        "    ),\n",
        "\n",
        "    dcc.Graph(\n",
        "        id='geo-distribution',\n",
        "        figure=px.scatter_geo(df, locations=\"City\", title=\"Customer Distribution by City\")\n",
        "    )\n",
        "])\n",
        "\n",
        "# Run the server\n",
        "if __name__ == '__main__':\n",
        "    app.run_server(mode='inline', debug=True)\n",
        "\n",
        "\n"
      ],
      "metadata": {
        "colab": {
          "base_uri": "https://localhost:8080/",
          "height": 671
        },
        "id": "m1MIlpxJ1sGx",
        "outputId": "337f2c68-0d46-4dc9-85f4-daf00faebba4"
      },
      "execution_count": null,
      "outputs": [
        {
          "output_type": "display_data",
          "data": {
            "text/plain": [
              "<IPython.core.display.Javascript object>"
            ],
            "application/javascript": [
              "(async (port, path, width, height, cache, element) => {\n",
              "    if (!google.colab.kernel.accessAllowed && !cache) {\n",
              "      return;\n",
              "    }\n",
              "    element.appendChild(document.createTextNode(''));\n",
              "    const url = await google.colab.kernel.proxyPort(port, {cache});\n",
              "    const iframe = document.createElement('iframe');\n",
              "    iframe.src = new URL(path, url).toString();\n",
              "    iframe.height = height;\n",
              "    iframe.width = width;\n",
              "    iframe.style.border = 0;\n",
              "    iframe.allow = [\n",
              "        'accelerometer',\n",
              "        'autoplay',\n",
              "        'camera',\n",
              "        'clipboard-read',\n",
              "        'clipboard-write',\n",
              "        'gyroscope',\n",
              "        'magnetometer',\n",
              "        'microphone',\n",
              "        'serial',\n",
              "        'usb',\n",
              "        'xr-spatial-tracking',\n",
              "    ].join('; ');\n",
              "    element.appendChild(iframe);\n",
              "  })(8050, \"/\", \"100%\", 650, false, window.element)"
            ]
          },
          "metadata": {}
        }
      ]
    }
  ]
}